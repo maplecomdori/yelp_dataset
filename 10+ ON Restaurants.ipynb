{
 "cells": [
  {
   "cell_type": "code",
   "execution_count": 1,
   "metadata": {},
   "outputs": [],
   "source": [
    "'''\n",
    "What’s the percentage of users, who reviewed ​“Mon Ami Gabi”,\n",
    "and also reviewed at least 10 other restaurants located in Ontario?\n",
    "\n",
    "users who reviewed MAG and review 10+ Ontario restaurants\n",
    " /\n",
    " all users\n",
    "\n",
    "'''\n",
    "\n",
    "from pymongo import MongoClient\n",
    "import pandas as pd\n",
    "import pprint\n",
    "\n",
    "\n",
    "client = MongoClient()\n",
    "dblist = client.list_database_names()\n",
    "db = client.yelp\n",
    "pp = pprint.PrettyPrinter(indent=4)\n",
    "\n",
    "\n"
   ]
  },
  {
   "cell_type": "code",
   "execution_count": 2,
   "metadata": {},
   "outputs": [],
   "source": [
    "cursor = db.review.find({})"
   ]
  },
  {
   "cell_type": "code",
   "execution_count": 3,
   "metadata": {},
   "outputs": [],
   "source": [
    "all_reviews = list(cursor)"
   ]
  },
  {
   "cell_type": "markdown",
   "metadata": {},
   "source": [
    "# Find Users who have reviewed MAG"
   ]
  },
  {
   "cell_type": "markdown",
   "metadata": {},
   "source": [
    "## Find Reviews for MAG"
   ]
  },
  {
   "cell_type": "code",
   "execution_count": 4,
   "metadata": {},
   "outputs": [],
   "source": [
    "df_reviews = pd.DataFrame(all_reviews)"
   ]
  },
  {
   "cell_type": "code",
   "execution_count": 5,
   "metadata": {
    "scrolled": false
   },
   "outputs": [
    {
     "name": "stdout",
     "output_type": "stream",
     "text": [
      "<class 'pandas.core.frame.DataFrame'>\n",
      "RangeIndex: 6685900 entries, 0 to 6685899\n",
      "Data columns (total 10 columns):\n",
      "_id            object\n",
      "review_id      object\n",
      "user_id        object\n",
      "business_id    object\n",
      "stars          float64\n",
      "useful         int64\n",
      "funny          int64\n",
      "cool           int64\n",
      "text           object\n",
      "date           object\n",
      "dtypes: float64(1), int64(3), object(6)\n",
      "memory usage: 510.1+ MB\n"
     ]
    }
   ],
   "source": [
    "df_reviews.info()"
   ]
  },
  {
   "cell_type": "code",
   "execution_count": 6,
   "metadata": {},
   "outputs": [],
   "source": [
    "df_reviews = df_reviews[['review_id', 'user_id', 'business_id']]"
   ]
  },
  {
   "cell_type": "code",
   "execution_count": 8,
   "metadata": {
    "scrolled": true
   },
   "outputs": [
    {
     "name": "stdout",
     "output_type": "stream",
     "text": [
      "<class 'pandas.core.frame.DataFrame'>\n",
      "RangeIndex: 6685900 entries, 0 to 6685899\n",
      "Data columns (total 3 columns):\n",
      "review_id      object\n",
      "user_id        object\n",
      "business_id    object\n",
      "dtypes: object(3)\n",
      "memory usage: 153.0+ MB\n"
     ]
    }
   ],
   "source": [
    "df_reviews.info()"
   ]
  },
  {
   "cell_type": "code",
   "execution_count": 10,
   "metadata": {},
   "outputs": [
    {
     "data": {
      "text/plain": [
       "'4JNXUYY8wbaaDmk3BPzlWw'"
      ]
     },
     "execution_count": 10,
     "metadata": {},
     "output_type": "execute_result"
    }
   ],
   "source": [
    "# FIND MAG BUSINESS ID\n",
    "mon_ami_gabi = db.business.find_one({\"name\": \"Mon Ami Gabi\"}, {\"name\": 1, \"business_id\": 1, \"_id\": 1, \"city\": 1})\n",
    "mag_business_id = mon_ami_gabi[\"business_id\"]\n",
    "mag_business_id"
   ]
  },
  {
   "cell_type": "code",
   "execution_count": 11,
   "metadata": {},
   "outputs": [],
   "source": [
    "df_mag_reviews = df_reviews[df_reviews['business_id'] == mag_business_id]"
   ]
  },
  {
   "cell_type": "code",
   "execution_count": 12,
   "metadata": {},
   "outputs": [
    {
     "name": "stdout",
     "output_type": "stream",
     "text": [
      "<class 'pandas.core.frame.DataFrame'>\n",
      "Int64Index: 8570 entries, 2661165 to 3331303\n",
      "Data columns (total 3 columns):\n",
      "review_id      8570 non-null object\n",
      "user_id        8570 non-null object\n",
      "business_id    8570 non-null object\n",
      "dtypes: object(3)\n",
      "memory usage: 267.8+ KB\n"
     ]
    }
   ],
   "source": [
    "df_mag_reviews.info()"
   ]
  },
  {
   "cell_type": "code",
   "execution_count": 16,
   "metadata": {},
   "outputs": [],
   "source": [
    "df_mag_reviewer_user_id = pd.DataFrame(df_mag_reviews['user_id'].unique())"
   ]
  },
  {
   "cell_type": "code",
   "execution_count": 17,
   "metadata": {},
   "outputs": [
    {
     "name": "stdout",
     "output_type": "stream",
     "text": [
      "<class 'pandas.core.frame.DataFrame'>\n",
      "RangeIndex: 8349 entries, 0 to 8348\n",
      "Data columns (total 1 columns):\n",
      "0    8349 non-null object\n",
      "dtypes: object(1)\n",
      "memory usage: 65.4+ KB\n"
     ]
    }
   ],
   "source": [
    "df_mag_reviewer_user_id.info()"
   ]
  },
  {
   "cell_type": "code",
   "execution_count": 18,
   "metadata": {
    "scrolled": true
   },
   "outputs": [
    {
     "data": {
      "text/html": [
       "<div>\n",
       "<style scoped>\n",
       "    .dataframe tbody tr th:only-of-type {\n",
       "        vertical-align: middle;\n",
       "    }\n",
       "\n",
       "    .dataframe tbody tr th {\n",
       "        vertical-align: top;\n",
       "    }\n",
       "\n",
       "    .dataframe thead th {\n",
       "        text-align: right;\n",
       "    }\n",
       "</style>\n",
       "<table border=\"1\" class=\"dataframe\">\n",
       "  <thead>\n",
       "    <tr style=\"text-align: right;\">\n",
       "      <th></th>\n",
       "      <th>0</th>\n",
       "    </tr>\n",
       "  </thead>\n",
       "  <tbody>\n",
       "    <tr>\n",
       "      <td>0</td>\n",
       "      <td>x5NpvWNS1cF_4bINIBPGzQ</td>\n",
       "    </tr>\n",
       "    <tr>\n",
       "      <td>1</td>\n",
       "      <td>m5cBT7OYfn0HM0d-RCsdZQ</td>\n",
       "    </tr>\n",
       "    <tr>\n",
       "      <td>2</td>\n",
       "      <td>ANsHMXjqFUTvZs0KQ7RB5Q</td>\n",
       "    </tr>\n",
       "    <tr>\n",
       "      <td>3</td>\n",
       "      <td>2L4W7nak0F6AxFAeBhFI1w</td>\n",
       "    </tr>\n",
       "    <tr>\n",
       "      <td>4</td>\n",
       "      <td>Oj_66IjmwmVdZTIz5xZXWg</td>\n",
       "    </tr>\n",
       "  </tbody>\n",
       "</table>\n",
       "</div>"
      ],
      "text/plain": [
       "                        0\n",
       "0  x5NpvWNS1cF_4bINIBPGzQ\n",
       "1  m5cBT7OYfn0HM0d-RCsdZQ\n",
       "2  ANsHMXjqFUTvZs0KQ7RB5Q\n",
       "3  2L4W7nak0F6AxFAeBhFI1w\n",
       "4  Oj_66IjmwmVdZTIz5xZXWg"
      ]
     },
     "execution_count": 18,
     "metadata": {},
     "output_type": "execute_result"
    }
   ],
   "source": [
    "df_mag_reviewer_user_id.head()"
   ]
  },
  {
   "cell_type": "code",
   "execution_count": 150,
   "metadata": {},
   "outputs": [],
   "source": [
    "set_mag_reviewers = set(df_mag_reviewer_user_id[0].to_list())"
   ]
  },
  {
   "cell_type": "markdown",
   "metadata": {},
   "source": [
    "# Find users with more than 10 reviews for restaurants in Ontario"
   ]
  },
  {
   "cell_type": "code",
   "execution_count": 35,
   "metadata": {},
   "outputs": [],
   "source": [
    "## Find Ontario businesses"
   ]
  },
  {
   "cell_type": "code",
   "execution_count": 38,
   "metadata": {},
   "outputs": [
    {
     "name": "stdout",
     "output_type": "stream",
     "text": [
      "<class 'pandas.core.frame.DataFrame'>\n",
      "RangeIndex: 33412 entries, 0 to 33411\n",
      "Data columns (total 1 columns):\n",
      "business_id    33412 non-null object\n",
      "dtypes: object(1)\n",
      "memory usage: 261.2+ KB\n"
     ]
    }
   ],
   "source": [
    "cursor_on_business = db.business.find({\"state\": \"ON\"}, {\"business_id\": 1, \"_id\":0})\n",
    "df_on_business = pd.DataFrame(list(cursor_on_business))\n",
    "df_on_business.info()"
   ]
  },
  {
   "cell_type": "code",
   "execution_count": 40,
   "metadata": {},
   "outputs": [],
   "source": [
    "set_on_business = set(df_on_business['business_id'])"
   ]
  },
  {
   "cell_type": "code",
   "execution_count": 41,
   "metadata": {},
   "outputs": [
    {
     "name": "stderr",
     "output_type": "stream",
     "text": [
      "/Users/leeseunghoon/opt/anaconda3/lib/python3.7/site-packages/ipykernel_launcher.py:1: SettingWithCopyWarning: \n",
      "A value is trying to be set on a copy of a slice from a DataFrame.\n",
      "Try using .loc[row_indexer,col_indexer] = value instead\n",
      "\n",
      "See the caveats in the documentation: http://pandas.pydata.org/pandas-docs/stable/user_guide/indexing.html#returning-a-view-versus-a-copy\n",
      "  \"\"\"Entry point for launching an IPython kernel.\n"
     ]
    }
   ],
   "source": [
    "df_reviews['is_on_review'] = df_reviews['business_id'].apply(lambda id: id in set_on_business)"
   ]
  },
  {
   "cell_type": "code",
   "execution_count": 94,
   "metadata": {},
   "outputs": [],
   "source": [
    "df_on_reviews = df_reviews[df_reviews['is_on_review'] == True]\n",
    "# df_on_reviews = df_on_reviews['user_id']"
   ]
  },
  {
   "cell_type": "code",
   "execution_count": 131,
   "metadata": {},
   "outputs": [
    {
     "name": "stdout",
     "output_type": "stream",
     "text": [
      "<class 'pandas.core.frame.DataFrame'>\n",
      "Int64Index: 784461 entries, 8 to 6685880\n",
      "Data columns (total 4 columns):\n",
      "review_id       784461 non-null object\n",
      "user_id         784461 non-null object\n",
      "business_id     784461 non-null object\n",
      "is_on_review    784461 non-null bool\n",
      "dtypes: bool(1), object(3)\n",
      "memory usage: 24.7+ MB\n"
     ]
    }
   ],
   "source": [
    "df_on_reviews.info()"
   ]
  },
  {
   "cell_type": "code",
   "execution_count": 132,
   "metadata": {
    "scrolled": true
   },
   "outputs": [
    {
     "data": {
      "text/html": [
       "<div>\n",
       "<style scoped>\n",
       "    .dataframe tbody tr th:only-of-type {\n",
       "        vertical-align: middle;\n",
       "    }\n",
       "\n",
       "    .dataframe tbody tr th {\n",
       "        vertical-align: top;\n",
       "    }\n",
       "\n",
       "    .dataframe thead th {\n",
       "        text-align: right;\n",
       "    }\n",
       "</style>\n",
       "<table border=\"1\" class=\"dataframe\">\n",
       "  <thead>\n",
       "    <tr style=\"text-align: right;\">\n",
       "      <th></th>\n",
       "      <th>review_id</th>\n",
       "      <th>user_id</th>\n",
       "      <th>business_id</th>\n",
       "      <th>is_on_review</th>\n",
       "    </tr>\n",
       "  </thead>\n",
       "  <tbody>\n",
       "    <tr>\n",
       "      <td>8</td>\n",
       "      <td>G7XHMxG0bx9oBJNECG4IFg</td>\n",
       "      <td>jlu4CztcSxrKx56ba1a5AQ</td>\n",
       "      <td>3fw2X5bZYeW9xCz_zGhOHg</td>\n",
       "      <td>True</td>\n",
       "    </tr>\n",
       "    <tr>\n",
       "      <td>11</td>\n",
       "      <td>JVcjMhlavKKn3UIt9p9OXA</td>\n",
       "      <td>TpyOT5E16YASd7EWjLQlrw</td>\n",
       "      <td>AakkkTuGZA2KBodKi2_u8A</td>\n",
       "      <td>True</td>\n",
       "    </tr>\n",
       "    <tr>\n",
       "      <td>14</td>\n",
       "      <td>svK3nBU7Rk8VfGorlrN52A</td>\n",
       "      <td>NJlxGtouq06hhC7sS2ECYw</td>\n",
       "      <td>YvrylyuWgbP90RgMqZQVnQ</td>\n",
       "      <td>True</td>\n",
       "    </tr>\n",
       "    <tr>\n",
       "      <td>20</td>\n",
       "      <td>4bUyL7lzoWzDZaJETAKREg</td>\n",
       "      <td>_N7Ndn29bpll_961oPeEfw</td>\n",
       "      <td>y-Iw6dZflNix4BdwIyTNGA</td>\n",
       "      <td>True</td>\n",
       "    </tr>\n",
       "    <tr>\n",
       "      <td>32</td>\n",
       "      <td>E6B-2U2sGG3xgmnNWZAEew</td>\n",
       "      <td>DbccYu3OppWKl21OanZnTg</td>\n",
       "      <td>YSUcHqlKMPHHJ_cTrqtNrA</td>\n",
       "      <td>True</td>\n",
       "    </tr>\n",
       "  </tbody>\n",
       "</table>\n",
       "</div>"
      ],
      "text/plain": [
       "                 review_id                 user_id             business_id  \\\n",
       "8   G7XHMxG0bx9oBJNECG4IFg  jlu4CztcSxrKx56ba1a5AQ  3fw2X5bZYeW9xCz_zGhOHg   \n",
       "11  JVcjMhlavKKn3UIt9p9OXA  TpyOT5E16YASd7EWjLQlrw  AakkkTuGZA2KBodKi2_u8A   \n",
       "14  svK3nBU7Rk8VfGorlrN52A  NJlxGtouq06hhC7sS2ECYw  YvrylyuWgbP90RgMqZQVnQ   \n",
       "20  4bUyL7lzoWzDZaJETAKREg  _N7Ndn29bpll_961oPeEfw  y-Iw6dZflNix4BdwIyTNGA   \n",
       "32  E6B-2U2sGG3xgmnNWZAEew  DbccYu3OppWKl21OanZnTg  YSUcHqlKMPHHJ_cTrqtNrA   \n",
       "\n",
       "    is_on_review  \n",
       "8           True  \n",
       "11          True  \n",
       "14          True  \n",
       "20          True  \n",
       "32          True  "
      ]
     },
     "execution_count": 132,
     "metadata": {},
     "output_type": "execute_result"
    }
   ],
   "source": [
    "df_on_reviews.head()"
   ]
  },
  {
   "cell_type": "code",
   "execution_count": 133,
   "metadata": {
    "scrolled": true
   },
   "outputs": [],
   "source": [
    "df_on_reviews_by_user = df_on_reviews.groupby(\"user_id\").count()"
   ]
  },
  {
   "cell_type": "code",
   "execution_count": 134,
   "metadata": {},
   "outputs": [
    {
     "name": "stdout",
     "output_type": "stream",
     "text": [
      "<class 'pandas.core.frame.DataFrame'>\n",
      "Index: 148570 entries, --56y1InAvNoQOD6YYrhVQ to zzyMMeUZzKAy7KQhM7lU2w\n",
      "Data columns (total 3 columns):\n",
      "review_id       148570 non-null int64\n",
      "business_id     148570 non-null int64\n",
      "is_on_review    148570 non-null int64\n",
      "dtypes: int64(3)\n",
      "memory usage: 4.5+ MB\n"
     ]
    }
   ],
   "source": [
    "df_on_reviews_by_user.info()"
   ]
  },
  {
   "cell_type": "code",
   "execution_count": 135,
   "metadata": {},
   "outputs": [
    {
     "data": {
      "text/html": [
       "<div>\n",
       "<style scoped>\n",
       "    .dataframe tbody tr th:only-of-type {\n",
       "        vertical-align: middle;\n",
       "    }\n",
       "\n",
       "    .dataframe tbody tr th {\n",
       "        vertical-align: top;\n",
       "    }\n",
       "\n",
       "    .dataframe thead th {\n",
       "        text-align: right;\n",
       "    }\n",
       "</style>\n",
       "<table border=\"1\" class=\"dataframe\">\n",
       "  <thead>\n",
       "    <tr style=\"text-align: right;\">\n",
       "      <th></th>\n",
       "      <th>review_id</th>\n",
       "      <th>business_id</th>\n",
       "      <th>is_on_review</th>\n",
       "    </tr>\n",
       "    <tr>\n",
       "      <th>user_id</th>\n",
       "      <th></th>\n",
       "      <th></th>\n",
       "      <th></th>\n",
       "    </tr>\n",
       "  </thead>\n",
       "  <tbody>\n",
       "    <tr>\n",
       "      <td>--56y1InAvNoQOD6YYrhVQ</td>\n",
       "      <td>1</td>\n",
       "      <td>1</td>\n",
       "      <td>1</td>\n",
       "    </tr>\n",
       "    <tr>\n",
       "      <td>--6_wnx2sD1rqOQAQH96wg</td>\n",
       "      <td>1</td>\n",
       "      <td>1</td>\n",
       "      <td>1</td>\n",
       "    </tr>\n",
       "    <tr>\n",
       "      <td>--7gjElmOrthETJ8XqzMBw</td>\n",
       "      <td>6</td>\n",
       "      <td>6</td>\n",
       "      <td>6</td>\n",
       "    </tr>\n",
       "    <tr>\n",
       "      <td>--Br-QsbO9ad5GbZxVGxaw</td>\n",
       "      <td>8</td>\n",
       "      <td>8</td>\n",
       "      <td>8</td>\n",
       "    </tr>\n",
       "    <tr>\n",
       "      <td>--BumyUHiO_7YsHurb9Hkw</td>\n",
       "      <td>55</td>\n",
       "      <td>55</td>\n",
       "      <td>55</td>\n",
       "    </tr>\n",
       "  </tbody>\n",
       "</table>\n",
       "</div>"
      ],
      "text/plain": [
       "                        review_id  business_id  is_on_review\n",
       "user_id                                                     \n",
       "--56y1InAvNoQOD6YYrhVQ          1            1             1\n",
       "--6_wnx2sD1rqOQAQH96wg          1            1             1\n",
       "--7gjElmOrthETJ8XqzMBw          6            6             6\n",
       "--Br-QsbO9ad5GbZxVGxaw          8            8             8\n",
       "--BumyUHiO_7YsHurb9Hkw         55           55            55"
      ]
     },
     "execution_count": 135,
     "metadata": {},
     "output_type": "execute_result"
    }
   ],
   "source": [
    "df_on_reviews_by_user.head()"
   ]
  },
  {
   "cell_type": "code",
   "execution_count": 137,
   "metadata": {},
   "outputs": [],
   "source": [
    "df_on_reviews_by_user = df_on_reviews_by_user[df_on_reviews_by_user['review_id'] >= 10]"
   ]
  },
  {
   "cell_type": "code",
   "execution_count": 138,
   "metadata": {},
   "outputs": [
    {
     "name": "stdout",
     "output_type": "stream",
     "text": [
      "<class 'pandas.core.frame.DataFrame'>\n",
      "Index: 13937 entries, --BumyUHiO_7YsHurb9Hkw to zzo--VpSQh8PpsGVeMC1dQ\n",
      "Data columns (total 3 columns):\n",
      "review_id       13937 non-null int64\n",
      "business_id     13937 non-null int64\n",
      "is_on_review    13937 non-null int64\n",
      "dtypes: int64(3)\n",
      "memory usage: 435.5+ KB\n"
     ]
    }
   ],
   "source": [
    "df_on_reviews_by_user.info()"
   ]
  },
  {
   "cell_type": "code",
   "execution_count": 139,
   "metadata": {},
   "outputs": [
    {
     "data": {
      "text/html": [
       "<div>\n",
       "<style scoped>\n",
       "    .dataframe tbody tr th:only-of-type {\n",
       "        vertical-align: middle;\n",
       "    }\n",
       "\n",
       "    .dataframe tbody tr th {\n",
       "        vertical-align: top;\n",
       "    }\n",
       "\n",
       "    .dataframe thead th {\n",
       "        text-align: right;\n",
       "    }\n",
       "</style>\n",
       "<table border=\"1\" class=\"dataframe\">\n",
       "  <thead>\n",
       "    <tr style=\"text-align: right;\">\n",
       "      <th></th>\n",
       "      <th>review_id</th>\n",
       "      <th>business_id</th>\n",
       "      <th>is_on_review</th>\n",
       "    </tr>\n",
       "    <tr>\n",
       "      <th>user_id</th>\n",
       "      <th></th>\n",
       "      <th></th>\n",
       "      <th></th>\n",
       "    </tr>\n",
       "  </thead>\n",
       "  <tbody>\n",
       "    <tr>\n",
       "      <td>--BumyUHiO_7YsHurb9Hkw</td>\n",
       "      <td>55</td>\n",
       "      <td>55</td>\n",
       "      <td>55</td>\n",
       "    </tr>\n",
       "    <tr>\n",
       "      <td>--Qh8yKWAvIP4V4K8ZPfHA</td>\n",
       "      <td>411</td>\n",
       "      <td>411</td>\n",
       "      <td>411</td>\n",
       "    </tr>\n",
       "    <tr>\n",
       "      <td>--UOvCH5qEgdNQ8lzR8QYQ</td>\n",
       "      <td>12</td>\n",
       "      <td>12</td>\n",
       "      <td>12</td>\n",
       "    </tr>\n",
       "    <tr>\n",
       "      <td>--YhjyV-ce1nFLYxP49C5A</td>\n",
       "      <td>87</td>\n",
       "      <td>87</td>\n",
       "      <td>87</td>\n",
       "    </tr>\n",
       "    <tr>\n",
       "      <td>-0AyZxS5C--WySnbW_Q8yQ</td>\n",
       "      <td>20</td>\n",
       "      <td>20</td>\n",
       "      <td>20</td>\n",
       "    </tr>\n",
       "  </tbody>\n",
       "</table>\n",
       "</div>"
      ],
      "text/plain": [
       "                        review_id  business_id  is_on_review\n",
       "user_id                                                     \n",
       "--BumyUHiO_7YsHurb9Hkw         55           55            55\n",
       "--Qh8yKWAvIP4V4K8ZPfHA        411          411           411\n",
       "--UOvCH5qEgdNQ8lzR8QYQ         12           12            12\n",
       "--YhjyV-ce1nFLYxP49C5A         87           87            87\n",
       "-0AyZxS5C--WySnbW_Q8yQ         20           20            20"
      ]
     },
     "execution_count": 139,
     "metadata": {},
     "output_type": "execute_result"
    }
   ],
   "source": [
    "df_on_reviews_by_user.head()"
   ]
  },
  {
   "cell_type": "code",
   "execution_count": 146,
   "metadata": {},
   "outputs": [],
   "source": [
    "set_users_with_10_on_reviews = set(df_on_reviews_by_user.index.values.tolist())"
   ]
  },
  {
   "cell_type": "code",
   "execution_count": 153,
   "metadata": {},
   "outputs": [],
   "source": [
    "answer = set_mag_reviewers.intersection(set_users_with_10_on_reviews)"
   ]
  },
  {
   "cell_type": "code",
   "execution_count": 154,
   "metadata": {},
   "outputs": [
    {
     "data": {
      "text/plain": [
       "{'-hUgrj7Lzir3yLUYrMYQ4g',\n",
       " '0HxInQ94hVHVlO1FGPWctA',\n",
       " '1O638BDK_fWuxgTVJwff-A',\n",
       " '2HiNttKgEkrwJQUTrL3Hxw',\n",
       " '41kMyI1BfOTyIIAenUSaTQ',\n",
       " '4T8X9Nss9bV6I_AdHNmTYQ',\n",
       " '4ayVX0YKY3GSP2IICpLJXQ',\n",
       " '4w-xY0Yc-jOvoCT4vJucUQ',\n",
       " '56_DKQpK4tT0rWLt4-DZOQ',\n",
       " '7JAdkaWbXuXA4YULqxKaMg',\n",
       " '7cmEMOLyD4GS1XbjctJpoQ',\n",
       " '8RcEwGrFIgkt9WQ35E6SnQ',\n",
       " 'AKHX3VbnKrdE_nIOCd5ptA',\n",
       " 'B856VSGCvHAB-mil7JVprA',\n",
       " 'C6J6aogoZ5bXWOZ76Mg36A',\n",
       " 'DBHCFW3mSmmOEpONHVu1rQ',\n",
       " 'ENgL9AxV7uu-v5EUCpF69Q',\n",
       " 'EiT_pSuIb08oRn4CfwfMJg',\n",
       " 'F2cMAsmFfxT1iy92fVCmFw',\n",
       " 'GNZE2VP4I2OsAu2D2PKhqg',\n",
       " 'GlxJs5r01_yqIgb4CYtiog',\n",
       " 'H7pj7sbXY3N-WSEwa-JfpA',\n",
       " 'HFECrzYDpgbS5EmTBtj2zQ',\n",
       " 'HkJ1p-QlRx6FJztgjr4Vnw',\n",
       " 'HkKyQY5bh57z7vhmFAZj5w',\n",
       " 'ITYKS6alUPmi8ubbNn7KRA',\n",
       " 'Jf3EkyDJzpHG5d37iacdpw',\n",
       " 'Lb37hatAjI3fgHEh2lMNEw',\n",
       " 'ME52kxq4f7LfxUHg86Cjew',\n",
       " 'MpvqV7lQcl15rflTBEUhXA',\n",
       " 'NBNIUJj60tVBKvWHhy3egg',\n",
       " 'O3eLhBJtr-L1ZCTnxjeIlg',\n",
       " 'P4Td3m5oMGZGTfDVZzgztg',\n",
       " 'PB3OEIzQGx_p6VdpzX3Feg',\n",
       " 'Q1ZbMYWMdXlWPHpg24f9pw',\n",
       " 'Qb8sDTzr54wRtT9hm1ZBCg',\n",
       " 'Rvn-Ymc8_9z4vbcm2ZwenQ',\n",
       " 'Swa0zwwbYfgosk3DAaWSGw',\n",
       " 'TV0V5o9M9iVZihUAzm0PIw',\n",
       " 'TcPgVR_SL16LgdRVR8Y7xw',\n",
       " 'U4INQZOPSUaj8hMjLlZ3KA',\n",
       " 'UMVPoZ5YYewEmVZLBPpXSg',\n",
       " 'WWwZzFfneG9w7LEvZBas2A',\n",
       " 'X5KmaGA2fOE8INq4RS43_g',\n",
       " 'Xwnf20FKuikiHcSpcEbpKQ',\n",
       " 'YI5sEimxyYrdeFbmsv_ssQ',\n",
       " 'YMYb73K3Dv3oiac4mADJSg',\n",
       " 'YRpt761-BvFVNI-PiJpu9g',\n",
       " 'Ygcv3NX9_oEAwLli_GdKrQ',\n",
       " 'ZpUI9ze0YlA6nMSHwx3ZYQ',\n",
       " '_A8CO1V40LPIkXqE-LTYTg',\n",
       " '_qXAML1zdrHe8vgE4dPymg',\n",
       " '_rB_BjNiITzp2abYlWC65A',\n",
       " 'cMEtAiW60I5wE_vLfTxoJQ',\n",
       " 'cNhHuEQMIpLH_qc9qGz67A',\n",
       " 'd1-GTbh7SH-X5G1BgGUC8A',\n",
       " 'dmF_RNlXyiY5KhsaBVvScQ',\n",
       " 'dpdM0CIUKSq7YL1f9YjZnw',\n",
       " 'gKb3vp3RD90gRzPIwDwGmQ',\n",
       " 'gW7ZR0O8HZKaE2QniyX2PQ',\n",
       " 'gjhzKWsqCIrpEd9pevbKZw',\n",
       " 'k0hZPaZjS1y8A-gxGjWsQQ',\n",
       " 'lvGlIBv4xkHiQBnNOuRYZQ',\n",
       " 'm7z-tX6XDZ27xGhGjnI21w',\n",
       " 'mYNZchGkkZZ8FJvrIu_eQw',\n",
       " 'nl8gWLDo6U6MjqzbBmE_9A',\n",
       " 'o0Skl5T1S74TRkStrW2K8g',\n",
       " 'ocqZDhw5ecMZQwy5tbftFQ',\n",
       " 'osM4Ssqj-w-JTXGVe7TTuA',\n",
       " 'rAAT39HF4khu-OdxBSr0jg',\n",
       " 'rQLEfpfSjVK-3dBmIMKZDA',\n",
       " 'rp10AQdPM9MIxNzxj6SOZw',\n",
       " 'tlY0QMQDyfjQAEwHnzvFnw',\n",
       " 'uHZr3XbjKvRTwdXLXrFuvg',\n",
       " 'v-HcprOKPC1_F5_15t4JDw',\n",
       " 'vJGLEHyhCs9V-5fAe-xx3w',\n",
       " 'vxdxGUWjR0D_-SdHMy9bTg',\n",
       " 'w-w-k-QXosIKQ8HQVwU6IQ',\n",
       " 'x3CYEPrebo-j_LhEHXrfEw',\n",
       " 'xDPfeRpE2946JJzuYf4C9w',\n",
       " 'xhQ8yGbuJP8zy7vhK2WCqQ',\n",
       " 'zBDE-bgIDeF-H0QyLgL5dw',\n",
       " 'zPNrEv30Piqoig3YG4en2g'}"
      ]
     },
     "execution_count": 154,
     "metadata": {},
     "output_type": "execute_result"
    }
   ],
   "source": [
    "answer"
   ]
  },
  {
   "cell_type": "code",
   "execution_count": 156,
   "metadata": {},
   "outputs": [
    {
     "data": {
      "text/plain": [
       "0.005069823069283102"
      ]
     },
     "execution_count": 156,
     "metadata": {},
     "output_type": "execute_result"
    }
   ],
   "source": [
    "len(answer) / 1637138 * 100"
   ]
  },
  {
   "cell_type": "code",
   "execution_count": null,
   "metadata": {},
   "outputs": [],
   "source": []
  }
 ],
 "metadata": {
  "kernelspec": {
   "display_name": "Python 3",
   "language": "python",
   "name": "python3"
  },
  "language_info": {
   "codemirror_mode": {
    "name": "ipython",
    "version": 3
   },
   "file_extension": ".py",
   "mimetype": "text/x-python",
   "name": "python",
   "nbconvert_exporter": "python",
   "pygments_lexer": "ipython3",
   "version": "3.7.4"
  }
 },
 "nbformat": 4,
 "nbformat_minor": 2
}

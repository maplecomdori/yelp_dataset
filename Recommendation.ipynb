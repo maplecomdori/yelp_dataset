{
 "cells": [
  {
   "cell_type": "markdown",
   "metadata": {},
   "source": [
    "For Yelpers living in Toronto, which restaurants do you recommend them, when they travel to Las Vegas, US? We want a recommendation model, which can recommend restaurant for travelers, based on their previous actions in Yelp platform."
   ]
  },
  {
   "cell_type": "markdown",
   "metadata": {},
   "source": [
    "# Set Up"
   ]
  },
  {
   "cell_type": "code",
   "execution_count": 1,
   "metadata": {},
   "outputs": [],
   "source": [
    "from pymongo import MongoClient\n",
    "import pandas as pd\n",
    "import numpy as np\n",
    "import pprint\n",
    "import geopy.distance\n",
    "\n",
    "client = MongoClient()\n",
    "dblist = client.list_database_names()\n",
    "db = client.yelp\n",
    "pp = pprint.PrettyPrinter(indent=4)"
   ]
  },
  {
   "cell_type": "markdown",
   "metadata": {},
   "source": [
    "# Find Reviews for Restaurants in Toronto"
   ]
  },
  {
   "cell_type": "markdown",
   "metadata": {},
   "source": [
    "## Find all the \"business_id\"s for Toronto Restaurants"
   ]
  },
  {
   "cell_type": "code",
   "execution_count": 2,
   "metadata": {},
   "outputs": [],
   "source": [
    "toronto = {\"city\":\"Toronto\", \"state\":\"ON\"}\n",
    "proj = {\"business_id\":1, \"_id\":0}\n",
    "toronto_biz_cursor = db.business.find(toronto, proj)\n"
   ]
  },
  {
   "cell_type": "code",
   "execution_count": 3,
   "metadata": {},
   "outputs": [],
   "source": [
    "df_toronto = pd.DataFrame(list(toronto_biz_cursor))\n",
    "set_toronto_biz_id = set(df_toronto['business_id'])"
   ]
  },
  {
   "cell_type": "markdown",
   "metadata": {},
   "source": [
    "## Find all the reviews for Toronto Restaurants"
   ]
  },
  {
   "cell_type": "code",
   "execution_count": 4,
   "metadata": {},
   "outputs": [],
   "source": [
    "review_cursor = db.review.find({}, {\"user_id\":1, \"business_id\":1, \"stars\":1, \"_id\":0})"
   ]
  },
  {
   "cell_type": "code",
   "execution_count": 5,
   "metadata": {},
   "outputs": [],
   "source": [
    "df_review = pd.DataFrame(list(review_cursor))"
   ]
  },
  {
   "cell_type": "code",
   "execution_count": 6,
   "metadata": {},
   "outputs": [],
   "source": [
    "df_review['is_in_toronto'] = df_review.apply(lambda row: row['business_id'] in set_toronto_biz_id, axis=1)"
   ]
  },
  {
   "cell_type": "code",
   "execution_count": 7,
   "metadata": {},
   "outputs": [],
   "source": [
    "df_toronto_review = df_review[df_review['is_in_toronto']]"
   ]
  },
  {
   "cell_type": "code",
   "execution_count": 8,
   "metadata": {},
   "outputs": [
    {
     "name": "stdout",
     "output_type": "stream",
     "text": [
      "<class 'pandas.core.frame.DataFrame'>\n",
      "Int64Index: 525422 entries, 11 to 6685880\n",
      "Data columns (total 4 columns):\n",
      "user_id          525422 non-null object\n",
      "business_id      525422 non-null object\n",
      "stars            525422 non-null float64\n",
      "is_in_toronto    525422 non-null bool\n",
      "dtypes: bool(1), float64(1), object(2)\n",
      "memory usage: 16.5+ MB\n"
     ]
    }
   ],
   "source": [
    "df_toronto_review.info()"
   ]
  },
  {
   "cell_type": "code",
   "execution_count": 9,
   "metadata": {},
   "outputs": [
    {
     "data": {
      "text/html": [
       "<div>\n",
       "<style scoped>\n",
       "    .dataframe tbody tr th:only-of-type {\n",
       "        vertical-align: middle;\n",
       "    }\n",
       "\n",
       "    .dataframe tbody tr th {\n",
       "        vertical-align: top;\n",
       "    }\n",
       "\n",
       "    .dataframe thead th {\n",
       "        text-align: right;\n",
       "    }\n",
       "</style>\n",
       "<table border=\"1\" class=\"dataframe\">\n",
       "  <thead>\n",
       "    <tr style=\"text-align: right;\">\n",
       "      <th></th>\n",
       "      <th>user_id</th>\n",
       "      <th>business_id</th>\n",
       "      <th>stars</th>\n",
       "      <th>is_in_toronto</th>\n",
       "    </tr>\n",
       "  </thead>\n",
       "  <tbody>\n",
       "    <tr>\n",
       "      <td>11</td>\n",
       "      <td>TpyOT5E16YASd7EWjLQlrw</td>\n",
       "      <td>AakkkTuGZA2KBodKi2_u8A</td>\n",
       "      <td>1.0</td>\n",
       "      <td>True</td>\n",
       "    </tr>\n",
       "    <tr>\n",
       "      <td>14</td>\n",
       "      <td>NJlxGtouq06hhC7sS2ECYw</td>\n",
       "      <td>YvrylyuWgbP90RgMqZQVnQ</td>\n",
       "      <td>5.0</td>\n",
       "      <td>True</td>\n",
       "    </tr>\n",
       "    <tr>\n",
       "      <td>20</td>\n",
       "      <td>_N7Ndn29bpll_961oPeEfw</td>\n",
       "      <td>y-Iw6dZflNix4BdwIyTNGA</td>\n",
       "      <td>3.0</td>\n",
       "      <td>True</td>\n",
       "    </tr>\n",
       "    <tr>\n",
       "      <td>32</td>\n",
       "      <td>DbccYu3OppWKl21OanZnTg</td>\n",
       "      <td>YSUcHqlKMPHHJ_cTrqtNrA</td>\n",
       "      <td>1.0</td>\n",
       "      <td>True</td>\n",
       "    </tr>\n",
       "    <tr>\n",
       "      <td>45</td>\n",
       "      <td>54kpqrxF9DEPpwa51hO_Bw</td>\n",
       "      <td>jzveTy7ogH7cg9axZ78ENg</td>\n",
       "      <td>4.0</td>\n",
       "      <td>True</td>\n",
       "    </tr>\n",
       "  </tbody>\n",
       "</table>\n",
       "</div>"
      ],
      "text/plain": [
       "                   user_id             business_id  stars  is_in_toronto\n",
       "11  TpyOT5E16YASd7EWjLQlrw  AakkkTuGZA2KBodKi2_u8A    1.0           True\n",
       "14  NJlxGtouq06hhC7sS2ECYw  YvrylyuWgbP90RgMqZQVnQ    5.0           True\n",
       "20  _N7Ndn29bpll_961oPeEfw  y-Iw6dZflNix4BdwIyTNGA    3.0           True\n",
       "32  DbccYu3OppWKl21OanZnTg  YSUcHqlKMPHHJ_cTrqtNrA    1.0           True\n",
       "45  54kpqrxF9DEPpwa51hO_Bw  jzveTy7ogH7cg9axZ78ENg    4.0           True"
      ]
     },
     "execution_count": 9,
     "metadata": {},
     "output_type": "execute_result"
    }
   ],
   "source": [
    "df_toronto_review.head()"
   ]
  },
  {
   "cell_type": "markdown",
   "metadata": {},
   "source": [
    "## Find Users Who Have Reviewed 20+ Restaurants in Toronto"
   ]
  },
  {
   "cell_type": "code",
   "execution_count": 10,
   "metadata": {},
   "outputs": [],
   "source": [
    "user_reviews = df_toronto_review.groupby('user_id')['business_id'].apply(list)\n",
    "# user_reviews = df_toronto_review.groupby(['user_id', 'business_id'], as_index=False)['stars'].apply(list)\n",
    "# b = pd.DataFrame(a)\n",
    "# b.loc[\"zztkCqqgR6VntYbqio4UTQ\", \"27vF5LESbv4kFQfHZUDCnw\"]\n"
   ]
  },
  {
   "cell_type": "code",
   "execution_count": null,
   "metadata": {},
   "outputs": [],
   "source": []
  },
  {
   "cell_type": "code",
   "execution_count": 11,
   "metadata": {},
   "outputs": [],
   "source": [
    "df_user_review = pd.DataFrame(user_reviews)"
   ]
  },
  {
   "cell_type": "code",
   "execution_count": 12,
   "metadata": {},
   "outputs": [
    {
     "name": "stdout",
     "output_type": "stream",
     "text": [
      "<class 'pandas.core.frame.DataFrame'>\n",
      "Index: 113164 entries, --7gjElmOrthETJ8XqzMBw to zzyMMeUZzKAy7KQhM7lU2w\n",
      "Data columns (total 1 columns):\n",
      "business_id    113164 non-null object\n",
      "dtypes: object(1)\n",
      "memory usage: 1.7+ MB\n"
     ]
    }
   ],
   "source": [
    "df_user_review.info()"
   ]
  },
  {
   "cell_type": "code",
   "execution_count": 13,
   "metadata": {
    "scrolled": true
   },
   "outputs": [
    {
     "data": {
      "text/html": [
       "<div>\n",
       "<style scoped>\n",
       "    .dataframe tbody tr th:only-of-type {\n",
       "        vertical-align: middle;\n",
       "    }\n",
       "\n",
       "    .dataframe tbody tr th {\n",
       "        vertical-align: top;\n",
       "    }\n",
       "\n",
       "    .dataframe thead th {\n",
       "        text-align: right;\n",
       "    }\n",
       "</style>\n",
       "<table border=\"1\" class=\"dataframe\">\n",
       "  <thead>\n",
       "    <tr style=\"text-align: right;\">\n",
       "      <th></th>\n",
       "      <th>business_id</th>\n",
       "    </tr>\n",
       "    <tr>\n",
       "      <th>user_id</th>\n",
       "      <th></th>\n",
       "    </tr>\n",
       "  </thead>\n",
       "  <tbody>\n",
       "    <tr>\n",
       "      <td>--7gjElmOrthETJ8XqzMBw</td>\n",
       "      <td>[9HAfloFDDOH0f8fmA5nkaw, IiG1_hV_TyQgLzh2j8Znc...</td>\n",
       "    </tr>\n",
       "    <tr>\n",
       "      <td>--Br-QsbO9ad5GbZxVGxaw</td>\n",
       "      <td>[x6PA-2j7LpZAYFo2VojmQQ, 6HjDDG6sVISBMX_SFksPmQ]</td>\n",
       "    </tr>\n",
       "    <tr>\n",
       "      <td>--BumyUHiO_7YsHurb9Hkw</td>\n",
       "      <td>[NoT7u2QNEvsVbH9MIzAzlw, mUUTJY9_BqmAYxypHiqWr...</td>\n",
       "    </tr>\n",
       "    <tr>\n",
       "      <td>--C93xIlmjtgQfSOIpcQSA</td>\n",
       "      <td>[9HWdRtNS0q4_UkEvL14IfA, 9HWdRtNS0q4_UkEvL14IfA]</td>\n",
       "    </tr>\n",
       "    <tr>\n",
       "      <td>--DKDJlRHfsvufdGSk_Sdw</td>\n",
       "      <td>[-dSfSU0Nwwh2b0aLo5ifyw]</td>\n",
       "    </tr>\n",
       "  </tbody>\n",
       "</table>\n",
       "</div>"
      ],
      "text/plain": [
       "                                                              business_id\n",
       "user_id                                                                  \n",
       "--7gjElmOrthETJ8XqzMBw  [9HAfloFDDOH0f8fmA5nkaw, IiG1_hV_TyQgLzh2j8Znc...\n",
       "--Br-QsbO9ad5GbZxVGxaw   [x6PA-2j7LpZAYFo2VojmQQ, 6HjDDG6sVISBMX_SFksPmQ]\n",
       "--BumyUHiO_7YsHurb9Hkw  [NoT7u2QNEvsVbH9MIzAzlw, mUUTJY9_BqmAYxypHiqWr...\n",
       "--C93xIlmjtgQfSOIpcQSA   [9HWdRtNS0q4_UkEvL14IfA, 9HWdRtNS0q4_UkEvL14IfA]\n",
       "--DKDJlRHfsvufdGSk_Sdw                           [-dSfSU0Nwwh2b0aLo5ifyw]"
      ]
     },
     "execution_count": 13,
     "metadata": {},
     "output_type": "execute_result"
    }
   ],
   "source": [
    "df_user_review.head()"
   ]
  },
  {
   "cell_type": "code",
   "execution_count": 14,
   "metadata": {
    "scrolled": true
   },
   "outputs": [
    {
     "name": "stdout",
     "output_type": "stream",
     "text": [
      "<class 'pandas.core.frame.DataFrame'>\n",
      "Index: 113164 entries, --7gjElmOrthETJ8XqzMBw to zzyMMeUZzKAy7KQhM7lU2w\n",
      "Data columns (total 1 columns):\n",
      "business_id    113164 non-null object\n",
      "dtypes: object(1)\n",
      "memory usage: 1.7+ MB\n"
     ]
    }
   ],
   "source": [
    "df_user_review.info()"
   ]
  },
  {
   "cell_type": "code",
   "execution_count": 15,
   "metadata": {},
   "outputs": [],
   "source": [
    "df_user_review['num_toronto_reviews'] = df_user_review.apply(lambda row: len(row['business_id']), axis=1)"
   ]
  },
  {
   "cell_type": "code",
   "execution_count": 16,
   "metadata": {},
   "outputs": [
    {
     "data": {
      "text/html": [
       "<div>\n",
       "<style scoped>\n",
       "    .dataframe tbody tr th:only-of-type {\n",
       "        vertical-align: middle;\n",
       "    }\n",
       "\n",
       "    .dataframe tbody tr th {\n",
       "        vertical-align: top;\n",
       "    }\n",
       "\n",
       "    .dataframe thead th {\n",
       "        text-align: right;\n",
       "    }\n",
       "</style>\n",
       "<table border=\"1\" class=\"dataframe\">\n",
       "  <thead>\n",
       "    <tr style=\"text-align: right;\">\n",
       "      <th></th>\n",
       "      <th>business_id</th>\n",
       "      <th>num_toronto_reviews</th>\n",
       "    </tr>\n",
       "    <tr>\n",
       "      <th>user_id</th>\n",
       "      <th></th>\n",
       "      <th></th>\n",
       "    </tr>\n",
       "  </thead>\n",
       "  <tbody>\n",
       "    <tr>\n",
       "      <td>--7gjElmOrthETJ8XqzMBw</td>\n",
       "      <td>[9HAfloFDDOH0f8fmA5nkaw, IiG1_hV_TyQgLzh2j8Znc...</td>\n",
       "      <td>6</td>\n",
       "    </tr>\n",
       "    <tr>\n",
       "      <td>--Br-QsbO9ad5GbZxVGxaw</td>\n",
       "      <td>[x6PA-2j7LpZAYFo2VojmQQ, 6HjDDG6sVISBMX_SFksPmQ]</td>\n",
       "      <td>2</td>\n",
       "    </tr>\n",
       "    <tr>\n",
       "      <td>--BumyUHiO_7YsHurb9Hkw</td>\n",
       "      <td>[NoT7u2QNEvsVbH9MIzAzlw, mUUTJY9_BqmAYxypHiqWr...</td>\n",
       "      <td>50</td>\n",
       "    </tr>\n",
       "    <tr>\n",
       "      <td>--C93xIlmjtgQfSOIpcQSA</td>\n",
       "      <td>[9HWdRtNS0q4_UkEvL14IfA, 9HWdRtNS0q4_UkEvL14IfA]</td>\n",
       "      <td>2</td>\n",
       "    </tr>\n",
       "    <tr>\n",
       "      <td>--DKDJlRHfsvufdGSk_Sdw</td>\n",
       "      <td>[-dSfSU0Nwwh2b0aLo5ifyw]</td>\n",
       "      <td>1</td>\n",
       "    </tr>\n",
       "  </tbody>\n",
       "</table>\n",
       "</div>"
      ],
      "text/plain": [
       "                                                              business_id  \\\n",
       "user_id                                                                     \n",
       "--7gjElmOrthETJ8XqzMBw  [9HAfloFDDOH0f8fmA5nkaw, IiG1_hV_TyQgLzh2j8Znc...   \n",
       "--Br-QsbO9ad5GbZxVGxaw   [x6PA-2j7LpZAYFo2VojmQQ, 6HjDDG6sVISBMX_SFksPmQ]   \n",
       "--BumyUHiO_7YsHurb9Hkw  [NoT7u2QNEvsVbH9MIzAzlw, mUUTJY9_BqmAYxypHiqWr...   \n",
       "--C93xIlmjtgQfSOIpcQSA   [9HWdRtNS0q4_UkEvL14IfA, 9HWdRtNS0q4_UkEvL14IfA]   \n",
       "--DKDJlRHfsvufdGSk_Sdw                           [-dSfSU0Nwwh2b0aLo5ifyw]   \n",
       "\n",
       "                        num_toronto_reviews  \n",
       "user_id                                      \n",
       "--7gjElmOrthETJ8XqzMBw                    6  \n",
       "--Br-QsbO9ad5GbZxVGxaw                    2  \n",
       "--BumyUHiO_7YsHurb9Hkw                   50  \n",
       "--C93xIlmjtgQfSOIpcQSA                    2  \n",
       "--DKDJlRHfsvufdGSk_Sdw                    1  "
      ]
     },
     "execution_count": 16,
     "metadata": {},
     "output_type": "execute_result"
    }
   ],
   "source": [
    "df_user_review.head()"
   ]
  },
  {
   "cell_type": "code",
   "execution_count": 17,
   "metadata": {},
   "outputs": [
    {
     "data": {
      "text/plain": [
       "Index(['business_id', 'num_toronto_reviews'], dtype='object')"
      ]
     },
     "execution_count": 17,
     "metadata": {},
     "output_type": "execute_result"
    }
   ],
   "source": [
    "df_user_review.columns"
   ]
  },
  {
   "cell_type": "code",
   "execution_count": 18,
   "metadata": {
    "scrolled": true
   },
   "outputs": [],
   "source": [
    "df_toronto_experts = df_user_review[df_user_review['num_toronto_reviews'] > 20]"
   ]
  },
  {
   "cell_type": "code",
   "execution_count": 19,
   "metadata": {},
   "outputs": [
    {
     "name": "stdout",
     "output_type": "stream",
     "text": [
      "<class 'pandas.core.frame.DataFrame'>\n",
      "Index: 3925 entries, --BumyUHiO_7YsHurb9Hkw to zyg4-MFtfPWmwucVazSjfw\n",
      "Data columns (total 2 columns):\n",
      "business_id            3925 non-null object\n",
      "num_toronto_reviews    3925 non-null int64\n",
      "dtypes: int64(1), object(1)\n",
      "memory usage: 92.0+ KB\n"
     ]
    }
   ],
   "source": [
    "df_toronto_experts.info()"
   ]
  },
  {
   "cell_type": "markdown",
   "metadata": {},
   "source": [
    "# Make Recommendations for Toronto"
   ]
  },
  {
   "cell_type": "code",
   "execution_count": 20,
   "metadata": {},
   "outputs": [],
   "source": [
    "df_few_toronto_reviews = df_user_review[df_user_review['num_toronto_reviews'] <= 20]"
   ]
  },
  {
   "cell_type": "code",
   "execution_count": 21,
   "metadata": {},
   "outputs": [
    {
     "name": "stdout",
     "output_type": "stream",
     "text": [
      "<class 'pandas.core.frame.DataFrame'>\n",
      "Index: 109239 entries, --7gjElmOrthETJ8XqzMBw to zzyMMeUZzKAy7KQhM7lU2w\n",
      "Data columns (total 2 columns):\n",
      "business_id            109239 non-null object\n",
      "num_toronto_reviews    109239 non-null int64\n",
      "dtypes: int64(1), object(1)\n",
      "memory usage: 2.5+ MB\n"
     ]
    }
   ],
   "source": [
    "df_few_toronto_reviews.info()"
   ]
  },
  {
   "cell_type": "code",
   "execution_count": 22,
   "metadata": {},
   "outputs": [
    {
     "data": {
      "text/html": [
       "<div>\n",
       "<style scoped>\n",
       "    .dataframe tbody tr th:only-of-type {\n",
       "        vertical-align: middle;\n",
       "    }\n",
       "\n",
       "    .dataframe tbody tr th {\n",
       "        vertical-align: top;\n",
       "    }\n",
       "\n",
       "    .dataframe thead th {\n",
       "        text-align: right;\n",
       "    }\n",
       "</style>\n",
       "<table border=\"1\" class=\"dataframe\">\n",
       "  <thead>\n",
       "    <tr style=\"text-align: right;\">\n",
       "      <th></th>\n",
       "      <th>business_id</th>\n",
       "      <th>num_toronto_reviews</th>\n",
       "    </tr>\n",
       "    <tr>\n",
       "      <th>user_id</th>\n",
       "      <th></th>\n",
       "      <th></th>\n",
       "    </tr>\n",
       "  </thead>\n",
       "  <tbody>\n",
       "    <tr>\n",
       "      <td>--7gjElmOrthETJ8XqzMBw</td>\n",
       "      <td>[9HAfloFDDOH0f8fmA5nkaw, IiG1_hV_TyQgLzh2j8Znc...</td>\n",
       "      <td>6</td>\n",
       "    </tr>\n",
       "    <tr>\n",
       "      <td>--Br-QsbO9ad5GbZxVGxaw</td>\n",
       "      <td>[x6PA-2j7LpZAYFo2VojmQQ, 6HjDDG6sVISBMX_SFksPmQ]</td>\n",
       "      <td>2</td>\n",
       "    </tr>\n",
       "    <tr>\n",
       "      <td>--C93xIlmjtgQfSOIpcQSA</td>\n",
       "      <td>[9HWdRtNS0q4_UkEvL14IfA, 9HWdRtNS0q4_UkEvL14IfA]</td>\n",
       "      <td>2</td>\n",
       "    </tr>\n",
       "    <tr>\n",
       "      <td>--DKDJlRHfsvufdGSk_Sdw</td>\n",
       "      <td>[-dSfSU0Nwwh2b0aLo5ifyw]</td>\n",
       "      <td>1</td>\n",
       "    </tr>\n",
       "    <tr>\n",
       "      <td>--EPvMywZ-82a4uzxSwsfg</td>\n",
       "      <td>[EswKVP74LXou2F4wyavNUQ]</td>\n",
       "      <td>1</td>\n",
       "    </tr>\n",
       "    <tr>\n",
       "      <td>--EVSb3jbKVL3WJ5NUCuCA</td>\n",
       "      <td>[uIuJGLPWli4dbomvANcuiQ]</td>\n",
       "      <td>1</td>\n",
       "    </tr>\n",
       "    <tr>\n",
       "      <td>--GwB-sktmoAOPBsbAaiow</td>\n",
       "      <td>[tMxzAzHSFJWjSu6CEjwtJQ, gz1FhM5W1ld-dwgYV5xRZQ]</td>\n",
       "      <td>2</td>\n",
       "    </tr>\n",
       "    <tr>\n",
       "      <td>--KQJPdrU0Md97DiOliDzw</td>\n",
       "      <td>[eQel7bUz75j0AVKnfsillg]</td>\n",
       "      <td>1</td>\n",
       "    </tr>\n",
       "    <tr>\n",
       "      <td>--RYvmB6UYRyZQqXkBv4eQ</td>\n",
       "      <td>[MsUI2BgJjptqa1YEAqBXuA, ZMbY3xmTJ3EB2f1ZFyB5Dg]</td>\n",
       "      <td>2</td>\n",
       "    </tr>\n",
       "    <tr>\n",
       "      <td>--UOvCH5qEgdNQ8lzR8QYQ</td>\n",
       "      <td>[UrV2WIaiFHRI8xxOZ00g0w, ZCrK07xb6w5Vi1vathV0N...</td>\n",
       "      <td>10</td>\n",
       "    </tr>\n",
       "  </tbody>\n",
       "</table>\n",
       "</div>"
      ],
      "text/plain": [
       "                                                              business_id  \\\n",
       "user_id                                                                     \n",
       "--7gjElmOrthETJ8XqzMBw  [9HAfloFDDOH0f8fmA5nkaw, IiG1_hV_TyQgLzh2j8Znc...   \n",
       "--Br-QsbO9ad5GbZxVGxaw   [x6PA-2j7LpZAYFo2VojmQQ, 6HjDDG6sVISBMX_SFksPmQ]   \n",
       "--C93xIlmjtgQfSOIpcQSA   [9HWdRtNS0q4_UkEvL14IfA, 9HWdRtNS0q4_UkEvL14IfA]   \n",
       "--DKDJlRHfsvufdGSk_Sdw                           [-dSfSU0Nwwh2b0aLo5ifyw]   \n",
       "--EPvMywZ-82a4uzxSwsfg                           [EswKVP74LXou2F4wyavNUQ]   \n",
       "--EVSb3jbKVL3WJ5NUCuCA                           [uIuJGLPWli4dbomvANcuiQ]   \n",
       "--GwB-sktmoAOPBsbAaiow   [tMxzAzHSFJWjSu6CEjwtJQ, gz1FhM5W1ld-dwgYV5xRZQ]   \n",
       "--KQJPdrU0Md97DiOliDzw                           [eQel7bUz75j0AVKnfsillg]   \n",
       "--RYvmB6UYRyZQqXkBv4eQ   [MsUI2BgJjptqa1YEAqBXuA, ZMbY3xmTJ3EB2f1ZFyB5Dg]   \n",
       "--UOvCH5qEgdNQ8lzR8QYQ  [UrV2WIaiFHRI8xxOZ00g0w, ZCrK07xb6w5Vi1vathV0N...   \n",
       "\n",
       "                        num_toronto_reviews  \n",
       "user_id                                      \n",
       "--7gjElmOrthETJ8XqzMBw                    6  \n",
       "--Br-QsbO9ad5GbZxVGxaw                    2  \n",
       "--C93xIlmjtgQfSOIpcQSA                    2  \n",
       "--DKDJlRHfsvufdGSk_Sdw                    1  \n",
       "--EPvMywZ-82a4uzxSwsfg                    1  \n",
       "--EVSb3jbKVL3WJ5NUCuCA                    1  \n",
       "--GwB-sktmoAOPBsbAaiow                    2  \n",
       "--KQJPdrU0Md97DiOliDzw                    1  \n",
       "--RYvmB6UYRyZQqXkBv4eQ                    2  \n",
       "--UOvCH5qEgdNQ8lzR8QYQ                   10  "
      ]
     },
     "execution_count": 22,
     "metadata": {},
     "output_type": "execute_result"
    }
   ],
   "source": [
    "df_few_toronto_reviews.head(10)"
   ]
  },
  {
   "cell_type": "markdown",
   "metadata": {},
   "source": [
    "## Find Reviewers (with 20+ Toronto Reviews) who have reviewed the restaurants reviewed by the test user"
   ]
  },
  {
   "cell_type": "code",
   "execution_count": 26,
   "metadata": {},
   "outputs": [],
   "source": [
    "test_user = \"--7gjElmOrthETJ8XqzMBw\"\n",
    "test_user_businesses = df_few_toronto_reviews.loc[test_user]['business_id']"
   ]
  },
  {
   "cell_type": "code",
   "execution_count": 27,
   "metadata": {},
   "outputs": [
    {
     "data": {
      "text/plain": [
       "['9HAfloFDDOH0f8fmA5nkaw',\n",
       " 'IiG1_hV_TyQgLzh2j8Zncg',\n",
       " 'UxWH8zRYIBgs6Q2oykvRdw',\n",
       " 'byN9qRmL5YhKzYQtAFDulw',\n",
       " 'GTNhbajbPNao5ITndlYy6Q',\n",
       " 'brNYDrnZhjZjbef9iXQVQw']"
      ]
     },
     "execution_count": 27,
     "metadata": {},
     "output_type": "execute_result"
    }
   ],
   "source": [
    "test_user_businesses"
   ]
  },
  {
   "cell_type": "code",
   "execution_count": 41,
   "metadata": {},
   "outputs": [
    {
     "data": {
      "text/plain": [
       "user_id\n",
       "--BumyUHiO_7YsHurb9Hkw    [NoT7u2QNEvsVbH9MIzAzlw, mUUTJY9_BqmAYxypHiqWr...\n",
       "--Qh8yKWAvIP4V4K8ZPfHA    [zrYpLdnGKA_EmOhgRCy_vg, 6551kEXeYF2NCwlodvk1E...\n",
       "--YhjyV-ce1nFLYxP49C5A    [S2yp22ExErM1wtpUgPC3TQ, SEG56Wws3Wb2AXyz-eohl...\n",
       "-1wbglcr6x1qrUbqP1YAIA    [ibNxVcSE7peefvDUGEFvzQ, A-QlS6_vpJI_Yi67AyNJL...\n",
       "-2kCxY7_aw5hOz7fJnGMbQ    [e59uNE07Gf-yrIl4rX3KZw, Nxg73OigmRQQq0d1pKtkU...\n",
       "                                                ...                        \n",
       "zwDazUH1n6KLmWmJXJj7Rg    [e59uNE07Gf-yrIl4rX3KZw, n9BrA1zIwlbiP1hLAc24j...\n",
       "zwmThlRiY1LHfJ_7zNfGqg    [W9wFhYz0hj9mQ_5vHfk31A, UC2dfjZg8mrRh10maovQf...\n",
       "zy-bRNv9Wp3fmNM4TD9kIw    [ibNxVcSE7peefvDUGEFvzQ, _zV-v1iMDIs4bjVuN_fL5...\n",
       "zyYWUdaodH0h1jCZAvFRPg    [BSchC5THOB0MFmzJTEqAnQ, OIdOJaNS8M624F58XGV3P...\n",
       "zyg4-MFtfPWmwucVazSjfw    [3a7Qby_IX7sU7O6ZsQZeOQ, yG2PdMFn6y3QDw4Uq4b5l...\n",
       "Name: business_id, Length: 3925, dtype: object"
      ]
     },
     "execution_count": 41,
     "metadata": {},
     "output_type": "execute_result"
    }
   ],
   "source": []
  },
  {
   "cell_type": "code",
   "execution_count": null,
   "metadata": {},
   "outputs": [],
   "source": []
  }
 ],
 "metadata": {
  "kernelspec": {
   "display_name": "Python 3",
   "language": "python",
   "name": "python3"
  },
  "language_info": {
   "codemirror_mode": {
    "name": "ipython",
    "version": 3
   },
   "file_extension": ".py",
   "mimetype": "text/x-python",
   "name": "python",
   "nbconvert_exporter": "python",
   "pygments_lexer": "ipython3",
   "version": "3.7.4"
  }
 },
 "nbformat": 4,
 "nbformat_minor": 2
}

{
 "cells": [
  {
   "cell_type": "markdown",
   "metadata": {},
   "source": [
    "# Set Up"
   ]
  },
  {
   "cell_type": "code",
   "execution_count": 1,
   "metadata": {},
   "outputs": [],
   "source": [
    "from pymongo import MongoClient\n",
    "import pandas as pd\n",
    "import bson\n",
    "\n",
    "# How many Canadian residents(figure out who are Canadian residents by yourself) \n",
    "# reviewed the business “Mon Ami Gabi” in last 1 year?"
   ]
  },
  {
   "cell_type": "code",
   "execution_count": 2,
   "metadata": {},
   "outputs": [],
   "source": [
    "client = MongoClient()\n",
    "dblist = client.list_database_names()\n",
    "db = client.yelp\n"
   ]
  },
  {
   "cell_type": "markdown",
   "metadata": {},
   "source": [
    "# Find Reviews for MAG in the last year"
   ]
  },
  {
   "cell_type": "markdown",
   "metadata": {},
   "source": [
    "### Find MAG business_id"
   ]
  },
  {
   "cell_type": "code",
   "execution_count": 3,
   "metadata": {
    "scrolled": false
   },
   "outputs": [
    {
     "data": {
      "text/plain": [
       "'4JNXUYY8wbaaDmk3BPzlWw'"
      ]
     },
     "execution_count": 3,
     "metadata": {},
     "output_type": "execute_result"
    }
   ],
   "source": [
    "mon_ami_gabi = db.business.find_one({\"name\": \"Mon Ami Gabi\"}, {\"name\": 1, \"business_id\": 1, \"_id\": 1, \"city\": 1})\n",
    "mag_business_id = mon_ami_gabi[\"business_id\"]\n",
    "mag_business_id"
   ]
  },
  {
   "cell_type": "markdown",
   "metadata": {},
   "source": [
    "### Find MAG reviews in 2018"
   ]
  },
  {
   "cell_type": "code",
   "execution_count": 4,
   "metadata": {},
   "outputs": [
    {
     "name": "stdout",
     "output_type": "stream",
     "text": [
      "<class 'pandas.core.frame.DataFrame'>\n",
      "RangeIndex: 964 entries, 0 to 963\n",
      "Data columns (total 5 columns):\n",
      "_id            964 non-null object\n",
      "review_id      964 non-null object\n",
      "user_id        964 non-null object\n",
      "business_id    964 non-null object\n",
      "date           964 non-null object\n",
      "dtypes: object(5)\n",
      "memory usage: 37.8+ KB\n"
     ]
    }
   ],
   "source": [
    "review_query = {\"business_id\": mag_business_id, \"date\": {\"$gt\": \"2018-01-01 00:00:00\", \"$lt\": \"2019-01-01 00:00:00\"}}\n",
    "fields_wanted = {\"business_id\": 1, \"user_id\": 1, \"review_id\": 1, \"date\": 1}\n",
    "mag_reviews = db.review.find(review_query, fields_wanted)\n",
    "df_mag_reviews = pd.DataFrame(list(mag_reviews))\n",
    "df_mag_reviews.info()"
   ]
  },
  {
   "cell_type": "markdown",
   "metadata": {},
   "source": [
    "# Find users who have reviewed MAG"
   ]
  },
  {
   "cell_type": "code",
   "execution_count": 5,
   "metadata": {},
   "outputs": [],
   "source": [
    "mon_ami_gabi_reviewers = df_mag_reviews['user_id'].unique()"
   ]
  },
  {
   "cell_type": "code",
   "execution_count": 6,
   "metadata": {
    "scrolled": true
   },
   "outputs": [
    {
     "name": "stdout",
     "output_type": "stream",
     "text": [
      "<class 'pandas.core.frame.DataFrame'>\n",
      "RangeIndex: 951 entries, 0 to 950\n",
      "Data columns (total 1 columns):\n",
      "user_id    951 non-null object\n",
      "dtypes: object(1)\n",
      "memory usage: 7.6+ KB\n"
     ]
    }
   ],
   "source": [
    "df_mag_reviewers = pd.DataFrame(mon_ami_gabi_reviewers, columns=['user_id'])\n",
    "df_mag_reviewers.head()\n",
    "df_mag_reviewers.info()"
   ]
  },
  {
   "cell_type": "markdown",
   "metadata": {},
   "source": [
    "# Find all the reviews for each user"
   ]
  },
  {
   "cell_type": "code",
   "execution_count": 7,
   "metadata": {},
   "outputs": [
    {
     "data": {
      "text/plain": [
       "{'_id': '-7M6CdMaGgBI82-yJvfCsw'}"
      ]
     },
     "execution_count": 7,
     "metadata": {},
     "output_type": "execute_result"
    }
   ],
   "source": [
    "review_query = {\"business_id\": mag_business_id, \"date\": {\"$gt\": \"2018-01-01 00:00:00\", \"$lt\": \"2019-01-01 00:00:00\"}}\n",
    "project = {\"user_id\": 1, \"review_id\": 1, \"_id\": 0}\n",
    "group = {\"_id\": \"$user_id\"}\n",
    "lookup = {\"from\": \"review\", \"localField\": \"user_id\", \"foreignField\": \"user_id\", \"as\": \"reviews_written\"}\n",
    "pipeline = [\n",
    "    {'$match': review_query}, \n",
    "    {'$project': project},\n",
    "    {'$group': group},\n",
    "#     {'$lookup': lookup}\n",
    "    \n",
    "]\n",
    "cursor = db.review.aggregate(pipeline)\n",
    "lst = list(cursor)\n",
    "lst[0]\n",
    "# len(lst)\n",
    "# len(lst) #964 without group, 951 with group\n"
   ]
  },
  {
   "cell_type": "code",
   "execution_count": 8,
   "metadata": {},
   "outputs": [],
   "source": [
    "review_query = {\"business_id\": mag_business_id, \"date\": {\"$gt\": \"2018-01-01 00:00:00\", \"$lt\": \"2019-01-01 00:00:00\"}}\n",
    "project = {\"user_id\": 1, \"review_id\": 1, \"_id\": 0}\n",
    "group = {\"_id\": \"$user_id\"}\n",
    "pipeline = [\n",
    "    {'$match': review_query}, \n",
    "    {'$project': project},\n",
    "    {'$group': group},    \n",
    "]\n",
    "cursor = db.review.aggregate(pipeline)\n",
    "# len(lst)"
   ]
  },
  {
   "cell_type": "code",
   "execution_count": 14,
   "metadata": {},
   "outputs": [],
   "source": [
    "mag_reviewers = []\n",
    "for user in cursor:\n",
    "    print(user)\n",
    "    reviews = list(db.review.find({\"user_id\": user}, {\"review_id\": 1, \"user_id\": 1, \"business_id\": 1}))\n",
    "    dic = {user: reviews}\n",
    "    mag_reviewers.append(dic)\n",
    "\n",
    "    "
   ]
  },
  {
   "cell_type": "code",
   "execution_count": 10,
   "metadata": {},
   "outputs": [],
   "source": [
    "# db.myCollection.find().forEach(bson.Code( '''\n",
    "#     function(u) { \n",
    "#        u.forSong = self.request.db.song.find_one({}, {'_id': 1})\n",
    "#        self.request.db.save(u)\n",
    "#      }'''))\n",
    "\n",
    "\n",
    "\n",
    "# db.myCollection.find().forEach(bson.Code( '''\n",
    "#     function(u) { \n",
    "#        u.forSong = self.request.db.song.find_one({}, {'_id': 1})\n",
    "#        self.request.db.save(u)\n",
    "#      }'''))\n",
    "#\n",
    "# db.books.find().forEach(\n",
    "#     function (newBook) {\n",
    "#         newBook.category = db.categories.findOne( { \"_id\": newBook.category } );\n",
    "#         newBook.lendings = db.lendings.find( { \"book\": newBook._id  } ).toArray();\n",
    "#         newBook.authors = db.authors.find( { \"_id\": { $in: newBook.authors }  } ).toArray();\n",
    "#         db.booksReloaded.insert(newBook);\n",
    "#     }\n",
    "# );\n"
   ]
  },
  {
   "cell_type": "code",
   "execution_count": null,
   "metadata": {},
   "outputs": [],
   "source": []
  },
  {
   "cell_type": "markdown",
   "metadata": {},
   "source": [
    "# FIND CANADIAN BUSINESS ID"
   ]
  },
  {
   "cell_type": "code",
   "execution_count": 11,
   "metadata": {},
   "outputs": [],
   "source": [
    "provinces = [\"ON\", \"QC\", \"NS\", \"NB\", \"MB\", \"BC\", \"PE\", \"SK\", \"AB\", \"NL\", \"NT\", \"YT\", \"NU\"]\n",
    "cad_biz_query = {\"state\": {\"$in\": provinces}}\n",
    "# biz_fields = {\"business_id\": 1, \"name\": 1, \"city\": 1, \"state\": 1}\n",
    "biz_fields = {\"business_id\": 1}\n",
    "\n",
    "canadian_business_ids = db.business.find(cad_biz_query, biz_fields)\n",
    "\n",
    "df = pd.DataFrame(list(canadian_business_ids))\n",
    "canadian_business_id_list = list(df.business_id)\n",
    "set_canadian_business_id = set(canadian_business_id_list)"
   ]
  },
  {
   "cell_type": "code",
   "execution_count": 12,
   "metadata": {},
   "outputs": [
    {
     "data": {
      "text/plain": [
       "50644"
      ]
     },
     "execution_count": 12,
     "metadata": {},
     "output_type": "execute_result"
    }
   ],
   "source": [
    "len(set_canadian_business_id)"
   ]
  },
  {
   "cell_type": "code",
   "execution_count": 2,
   "metadata": {},
   "outputs": [
    {
     "data": {
      "text/plain": [
       "3.0934472231418484"
      ]
     },
     "execution_count": 2,
     "metadata": {},
     "output_type": "execute_result"
    }
   ],
   "source": [
    " 50644 / 1637138 * 100"
   ]
  },
  {
   "cell_type": "code",
   "execution_count": null,
   "metadata": {},
   "outputs": [],
   "source": []
  }
 ],
 "metadata": {
  "kernelspec": {
   "display_name": "Python 3",
   "language": "python",
   "name": "python3"
  },
  "language_info": {
   "codemirror_mode": {
    "name": "ipython",
    "version": 3
   },
   "file_extension": ".py",
   "mimetype": "text/x-python",
   "name": "python",
   "nbconvert_exporter": "python",
   "pygments_lexer": "ipython3",
   "version": "3.7.4"
  }
 },
 "nbformat": 4,
 "nbformat_minor": 2
}

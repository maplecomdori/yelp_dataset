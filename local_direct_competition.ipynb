{
 "cells": [
  {
   "cell_type": "code",
   "execution_count": 1,
   "metadata": {},
   "outputs": [
    {
     "data": {
      "text/plain": [
       "'\\nPlease think about 2 more analytics, which provide insights for existing/future \\u200bBusiness Owners\\u200b, \\nto make important decisions regarding new business or business expansion.\\n'"
      ]
     },
     "execution_count": 1,
     "metadata": {},
     "output_type": "execute_result"
    }
   ],
   "source": [
    "'''\n",
    "Please think about 2 more analytics, which provide insights for existing/future ​Business Owners​, \n",
    "to make important decisions regarding new business or business expansion.\n",
    "'''"
   ]
  },
  {
   "cell_type": "code",
   "execution_count": 2,
   "metadata": {},
   "outputs": [],
   "source": [
    "from pymongo import MongoClient\n",
    "import pandas as pd\n",
    "import pprint\n",
    "import geopy.distance\n",
    "\n",
    "client = MongoClient()\n",
    "dblist = client.list_database_names()\n",
    "db = client.yelp\n",
    "pp = pprint.PrettyPrinter(indent=4)"
   ]
  },
  {
   "cell_type": "markdown",
   "metadata": {},
   "source": [
    "# Find my business"
   ]
  },
  {
   "cell_type": "code",
   "execution_count": 3,
   "metadata": {},
   "outputs": [
    {
     "data": {
      "text/plain": [
       "{'_id': ObjectId('5dc9d09d2c31ec23f5a6ce1e'),\n",
       " 'business_id': 'C8_zdU7zGLUK3uC4e5AepQ',\n",
       " 'name': 'MeNami',\n",
       " 'address': '5469 Yonge Street',\n",
       " 'city': 'Toronto',\n",
       " 'state': 'ON',\n",
       " 'postal_code': 'M2N 5S1',\n",
       " 'latitude': 43.7778404,\n",
       " 'longitude': -79.4147699,\n",
       " 'stars': 3.5,\n",
       " 'review_count': 371,\n",
       " 'is_open': 1,\n",
       " 'attributes': {'GoodForDancing': 'False',\n",
       "  'HasTV': 'True',\n",
       "  'CoatCheck': 'False',\n",
       "  'RestaurantsPriceRange2': '2',\n",
       "  'Smoking': \"u'no'\",\n",
       "  'RestaurantsGoodForGroups': 'True',\n",
       "  'GoodForKids': 'False',\n",
       "  'RestaurantsTakeOut': 'True',\n",
       "  'BikeParking': 'True',\n",
       "  'RestaurantsDelivery': 'False',\n",
       "  'BestNights': \"{'monday': False, 'tuesday': False, 'friday': False, 'wednesday': False, 'thursday': False, 'sunday': False, 'saturday': True}\",\n",
       "  'RestaurantsReservations': 'True',\n",
       "  'GoodForMeal': \"{'dessert': False, 'latenight': True, 'lunch': True, 'dinner': True, 'brunch': False, 'breakfast': False}\",\n",
       "  'BusinessParking': \"{'garage': False, 'street': True, 'validated': False, 'lot': False, 'valet': False}\",\n",
       "  'HappyHour': 'False',\n",
       "  'Caters': 'False',\n",
       "  'RestaurantsTableService': 'True',\n",
       "  'OutdoorSeating': 'False',\n",
       "  'Alcohol': \"u'full_bar'\",\n",
       "  'Music': \"{'dj': False, 'background_music': True, 'jukebox': False, 'live': False, 'video': False, 'karaoke': False}\",\n",
       "  'Ambience': \"{'romantic': False, 'intimate': False, 'classy': False, 'hipster': True, 'divey': False, 'touristy': False, 'trendy': True, 'upscale': False, 'casual': False}\",\n",
       "  'BusinessAcceptsCreditCards': 'True',\n",
       "  'RestaurantsAttire': \"'casual'\",\n",
       "  'NoiseLevel': \"u'average'\",\n",
       "  'WiFi': \"u'no'\"},\n",
       " 'categories': 'Japanese, Asian Fusion, Restaurants, Nightlife, Udon, Bars, Korean',\n",
       " 'hours': {'Monday': '11:30-2:30',\n",
       "  'Tuesday': '11:30-2:30',\n",
       "  'Wednesday': '11:30-2:30',\n",
       "  'Thursday': '11:30-2:30',\n",
       "  'Friday': '11:30-2:30',\n",
       "  'Saturday': '11:30-2:30',\n",
       "  'Sunday': '11:30-0:0'}}"
      ]
     },
     "execution_count": 3,
     "metadata": {},
     "output_type": "execute_result"
    }
   ],
   "source": [
    "my_business = db.business.find_one({\"name\": \"MeNami\"})\n",
    "my_business"
   ]
  },
  {
   "cell_type": "markdown",
   "metadata": {},
   "source": [
    "## Get City and State of Interest"
   ]
  },
  {
   "cell_type": "code",
   "execution_count": 4,
   "metadata": {},
   "outputs": [],
   "source": [
    "# city = my_business['city']\n",
    "# state = my_business['state']\n",
    "city = \"Toronto\"\n",
    "state = \"ON\"\n",
    "target_distance = 2"
   ]
  },
  {
   "cell_type": "markdown",
   "metadata": {},
   "source": [
    "## Get Businesses in the Same City"
   ]
  },
  {
   "cell_type": "code",
   "execution_count": 5,
   "metadata": {},
   "outputs": [],
   "source": [
    "# db.inventory.find( { qty: { $in: [ 5, 15 ] } } )\n",
    "query = {\n",
    "    \"city\": city,\n",
    "    \"state\": state\n",
    "}\n"
   ]
  },
  {
   "cell_type": "code",
   "execution_count": 6,
   "metadata": {},
   "outputs": [],
   "source": [
    "cursor = db.business.find(query)"
   ]
  },
  {
   "cell_type": "code",
   "execution_count": 7,
   "metadata": {},
   "outputs": [],
   "source": [
    "lst_business = list(cursor)"
   ]
  },
  {
   "cell_type": "code",
   "execution_count": 8,
   "metadata": {},
   "outputs": [],
   "source": [
    "df_business = pd.DataFrame(lst_business)"
   ]
  },
  {
   "cell_type": "code",
   "execution_count": 9,
   "metadata": {},
   "outputs": [
    {
     "name": "stdout",
     "output_type": "stream",
     "text": [
      "<class 'pandas.core.frame.DataFrame'>\n",
      "RangeIndex: 18904 entries, 0 to 18903\n",
      "Data columns (total 15 columns):\n",
      "_id             18904 non-null object\n",
      "business_id     18904 non-null object\n",
      "name            18904 non-null object\n",
      "address         18904 non-null object\n",
      "city            18904 non-null object\n",
      "state           18904 non-null object\n",
      "postal_code     18904 non-null object\n",
      "latitude        18904 non-null float64\n",
      "longitude       18904 non-null float64\n",
      "stars           18904 non-null float64\n",
      "review_count    18904 non-null int64\n",
      "is_open         18904 non-null int64\n",
      "attributes      16138 non-null object\n",
      "categories      18874 non-null object\n",
      "hours           13881 non-null object\n",
      "dtypes: float64(3), int64(2), object(10)\n",
      "memory usage: 2.2+ MB\n"
     ]
    }
   ],
   "source": [
    "df_business.info()"
   ]
  },
  {
   "cell_type": "code",
   "execution_count": 10,
   "metadata": {},
   "outputs": [],
   "source": [
    "df_business = df_business[df_business['is_open'] == 1]\n",
    "df_business = df_business.drop(['city', 'state', 'business_id', '_id', 'is_open', 'hours'], axis=1)\n"
   ]
  },
  {
   "cell_type": "code",
   "execution_count": 11,
   "metadata": {},
   "outputs": [
    {
     "data": {
      "text/html": [
       "<div>\n",
       "<style scoped>\n",
       "    .dataframe tbody tr th:only-of-type {\n",
       "        vertical-align: middle;\n",
       "    }\n",
       "\n",
       "    .dataframe tbody tr th {\n",
       "        vertical-align: top;\n",
       "    }\n",
       "\n",
       "    .dataframe thead th {\n",
       "        text-align: right;\n",
       "    }\n",
       "</style>\n",
       "<table border=\"1\" class=\"dataframe\">\n",
       "  <thead>\n",
       "    <tr style=\"text-align: right;\">\n",
       "      <th></th>\n",
       "      <th>name</th>\n",
       "      <th>address</th>\n",
       "      <th>postal_code</th>\n",
       "      <th>latitude</th>\n",
       "      <th>longitude</th>\n",
       "      <th>stars</th>\n",
       "      <th>review_count</th>\n",
       "      <th>attributes</th>\n",
       "      <th>categories</th>\n",
       "    </tr>\n",
       "  </thead>\n",
       "  <tbody>\n",
       "    <tr>\n",
       "      <td>12386</td>\n",
       "      <td>Pai Northern Thai Kitchen</td>\n",
       "      <td>18 Duncan Street</td>\n",
       "      <td>M5H 3G8</td>\n",
       "      <td>43.647866</td>\n",
       "      <td>-79.388642</td>\n",
       "      <td>4.5</td>\n",
       "      <td>2121</td>\n",
       "      <td>{'Ambience': '{'romantic': False, 'intimate': ...</td>\n",
       "      <td>Restaurants, Food, Thai, Ethnic Food, Specialt...</td>\n",
       "    </tr>\n",
       "    <tr>\n",
       "      <td>15889</td>\n",
       "      <td>Khao San Road</td>\n",
       "      <td>11 Charlotte Street</td>\n",
       "      <td>M5V 2H5</td>\n",
       "      <td>43.646411</td>\n",
       "      <td>-79.393480</td>\n",
       "      <td>4.0</td>\n",
       "      <td>1410</td>\n",
       "      <td>{'OutdoorSeating': 'False', 'BikeParking': 'Tr...</td>\n",
       "      <td>Thai, Restaurants</td>\n",
       "    </tr>\n",
       "    <tr>\n",
       "      <td>17495</td>\n",
       "      <td>KINKA IZAKAYA ORIGINAL</td>\n",
       "      <td>398 Church St</td>\n",
       "      <td>M5B 2A2</td>\n",
       "      <td>43.660430</td>\n",
       "      <td>-79.378927</td>\n",
       "      <td>4.0</td>\n",
       "      <td>1397</td>\n",
       "      <td>{'RestaurantsGoodForGroups': 'True', 'NoiseLev...</td>\n",
       "      <td>Bars, Restaurants, Japanese, Tapas/Small Plate...</td>\n",
       "    </tr>\n",
       "    <tr>\n",
       "      <td>11201</td>\n",
       "      <td>Seven Lives Tacos Y Mariscos</td>\n",
       "      <td>69 Kensington Avenue</td>\n",
       "      <td>M5T 2K2</td>\n",
       "      <td>43.654341</td>\n",
       "      <td>-79.400480</td>\n",
       "      <td>4.5</td>\n",
       "      <td>1152</td>\n",
       "      <td>{'NoiseLevel': 'u'average'', 'RestaurantsDeliv...</td>\n",
       "      <td>Seafood, Restaurants, Mexican</td>\n",
       "    </tr>\n",
       "    <tr>\n",
       "      <td>9772</td>\n",
       "      <td>Banh Mi Boys</td>\n",
       "      <td>392 Queen Street W</td>\n",
       "      <td>M5V 2A9</td>\n",
       "      <td>43.648827</td>\n",
       "      <td>-79.396970</td>\n",
       "      <td>4.5</td>\n",
       "      <td>1045</td>\n",
       "      <td>{'NoiseLevel': 'u'average'', 'Ambience': '{'ro...</td>\n",
       "      <td>Sandwiches, Restaurants, Asian Fusion, Food, D...</td>\n",
       "    </tr>\n",
       "  </tbody>\n",
       "</table>\n",
       "</div>"
      ],
      "text/plain": [
       "                               name               address postal_code  \\\n",
       "12386     Pai Northern Thai Kitchen      18 Duncan Street     M5H 3G8   \n",
       "15889                 Khao San Road   11 Charlotte Street     M5V 2H5   \n",
       "17495        KINKA IZAKAYA ORIGINAL         398 Church St     M5B 2A2   \n",
       "11201  Seven Lives Tacos Y Mariscos  69 Kensington Avenue     M5T 2K2   \n",
       "9772                   Banh Mi Boys    392 Queen Street W     M5V 2A9   \n",
       "\n",
       "        latitude  longitude  stars  review_count  \\\n",
       "12386  43.647866 -79.388642    4.5          2121   \n",
       "15889  43.646411 -79.393480    4.0          1410   \n",
       "17495  43.660430 -79.378927    4.0          1397   \n",
       "11201  43.654341 -79.400480    4.5          1152   \n",
       "9772   43.648827 -79.396970    4.5          1045   \n",
       "\n",
       "                                              attributes  \\\n",
       "12386  {'Ambience': '{'romantic': False, 'intimate': ...   \n",
       "15889  {'OutdoorSeating': 'False', 'BikeParking': 'Tr...   \n",
       "17495  {'RestaurantsGoodForGroups': 'True', 'NoiseLev...   \n",
       "11201  {'NoiseLevel': 'u'average'', 'RestaurantsDeliv...   \n",
       "9772   {'NoiseLevel': 'u'average'', 'Ambience': '{'ro...   \n",
       "\n",
       "                                              categories  \n",
       "12386  Restaurants, Food, Thai, Ethnic Food, Specialt...  \n",
       "15889                                  Thai, Restaurants  \n",
       "17495  Bars, Restaurants, Japanese, Tapas/Small Plate...  \n",
       "11201                      Seafood, Restaurants, Mexican  \n",
       "9772   Sandwiches, Restaurants, Asian Fusion, Food, D...  "
      ]
     },
     "execution_count": 11,
     "metadata": {},
     "output_type": "execute_result"
    }
   ],
   "source": [
    "df_business.sort_values(['review_count'], ascending=False).head()"
   ]
  },
  {
   "cell_type": "markdown",
   "metadata": {},
   "source": [
    "# Caclulate Distance from My Business"
   ]
  },
  {
   "cell_type": "code",
   "execution_count": 12,
   "metadata": {},
   "outputs": [],
   "source": [
    "df_business['distance_in_km'] = df_business.apply(\n",
    "    lambda row: geopy.distance.geodesic((row['latitude'], row['longitude']), \n",
    "                                        (my_business['latitude'], my_business['longitude'])).km, axis=1)"
   ]
  },
  {
   "cell_type": "code",
   "execution_count": 13,
   "metadata": {},
   "outputs": [
    {
     "data": {
      "text/plain": [
       "0        14.833844\n",
       "1         5.877275\n",
       "2        12.047466\n",
       "3        15.018624\n",
       "6         8.453550\n",
       "           ...    \n",
       "18899    13.352176\n",
       "18900    11.555552\n",
       "18901     8.262416\n",
       "18902    12.754543\n",
       "18903    12.023586\n",
       "Name: distance_in_km, Length: 14329, dtype: float64"
      ]
     },
     "execution_count": 13,
     "metadata": {},
     "output_type": "execute_result"
    }
   ],
   "source": [
    "df_business['distance_in_km']"
   ]
  },
  {
   "cell_type": "markdown",
   "metadata": {},
   "source": [
    "# Find Businesses within Target Distance"
   ]
  },
  {
   "cell_type": "code",
   "execution_count": 14,
   "metadata": {},
   "outputs": [],
   "source": [
    "within_distance = df_business[df_business['distance_in_km'] < target_distance]\n",
    "within_distance = within_distance.drop(['latitude', 'longitude'], axis=1)"
   ]
  },
  {
   "cell_type": "code",
   "execution_count": 15,
   "metadata": {
    "scrolled": true
   },
   "outputs": [
    {
     "name": "stdout",
     "output_type": "stream",
     "text": [
      "<class 'pandas.core.frame.DataFrame'>\n",
      "Int64Index: 300 entries, 87 to 18851\n",
      "Data columns (total 8 columns):\n",
      "name              300 non-null object\n",
      "address           300 non-null object\n",
      "postal_code       300 non-null object\n",
      "stars             300 non-null float64\n",
      "review_count      300 non-null int64\n",
      "attributes        245 non-null object\n",
      "categories        300 non-null object\n",
      "distance_in_km    300 non-null float64\n",
      "dtypes: float64(2), int64(1), object(5)\n",
      "memory usage: 21.1+ KB\n"
     ]
    }
   ],
   "source": [
    "within_distance.info()"
   ]
  },
  {
   "cell_type": "markdown",
   "metadata": {},
   "source": [
    "# Find Businesses with Similar Categories"
   ]
  },
  {
   "cell_type": "code",
   "execution_count": 16,
   "metadata": {},
   "outputs": [],
   "source": [
    "within_distance['duplicate_categories'] = within_distance['categories'].apply(lambda row: \n",
    "                                                                    \n",
    "                                                                        ', '.join(set(my_business['categories'].split(', '))\n",
    "                                                                        .intersection(\n",
    "                                                                            set(row.split(', '))\n",
    "                                                                        ) ))"
   ]
  },
  {
   "cell_type": "code",
   "execution_count": 17,
   "metadata": {},
   "outputs": [
    {
     "data": {
      "text/plain": [
       "87                \n",
       "158               \n",
       "197               \n",
       "294    Restaurants\n",
       "315               \n",
       "Name: duplicate_categories, dtype: object"
      ]
     },
     "execution_count": 17,
     "metadata": {},
     "output_type": "execute_result"
    }
   ],
   "source": [
    "within_distance['duplicate_categories'].head()"
   ]
  },
  {
   "cell_type": "code",
   "execution_count": 18,
   "metadata": {},
   "outputs": [
    {
     "name": "stderr",
     "output_type": "stream",
     "text": [
      "/Users/leeseunghoon/opt/anaconda3/lib/python3.7/site-packages/ipykernel_launcher.py:2: SettingWithCopyWarning: \n",
      "A value is trying to be set on a copy of a slice from a DataFrame.\n",
      "Try using .loc[row_indexer,col_indexer] = value instead\n",
      "\n",
      "See the caveats in the documentation: http://pandas.pydata.org/pandas-docs/stable/user_guide/indexing.html#returning-a-view-versus-a-copy\n",
      "  \n"
     ]
    }
   ],
   "source": [
    "within_distance_direct_competitions = within_distance[within_distance['duplicate_categories'] != '']\n",
    "within_distance_direct_competitions['n_dup_cat'] = within_distance_direct_competitions['duplicate_categories'].apply(lambda x: len(x.split(', ')))"
   ]
  },
  {
   "cell_type": "code",
   "execution_count": 19,
   "metadata": {},
   "outputs": [
    {
     "name": "stdout",
     "output_type": "stream",
     "text": [
      "<class 'pandas.core.frame.DataFrame'>\n",
      "Int64Index: 154 entries, 294 to 18851\n",
      "Data columns (total 10 columns):\n",
      "name                    154 non-null object\n",
      "address                 154 non-null object\n",
      "postal_code             154 non-null object\n",
      "stars                   154 non-null float64\n",
      "review_count            154 non-null int64\n",
      "attributes              136 non-null object\n",
      "categories              154 non-null object\n",
      "distance_in_km          154 non-null float64\n",
      "duplicate_categories    154 non-null object\n",
      "n_dup_cat               154 non-null int64\n",
      "dtypes: float64(2), int64(2), object(6)\n",
      "memory usage: 13.2+ KB\n"
     ]
    }
   ],
   "source": [
    "within_distance_direct_competitions.info()"
   ]
  },
  {
   "cell_type": "code",
   "execution_count": 20,
   "metadata": {},
   "outputs": [
    {
     "data": {
      "text/html": [
       "<div>\n",
       "<style scoped>\n",
       "    .dataframe tbody tr th:only-of-type {\n",
       "        vertical-align: middle;\n",
       "    }\n",
       "\n",
       "    .dataframe tbody tr th {\n",
       "        vertical-align: top;\n",
       "    }\n",
       "\n",
       "    .dataframe thead th {\n",
       "        text-align: right;\n",
       "    }\n",
       "</style>\n",
       "<table border=\"1\" class=\"dataframe\">\n",
       "  <thead>\n",
       "    <tr style=\"text-align: right;\">\n",
       "      <th></th>\n",
       "      <th>name</th>\n",
       "      <th>address</th>\n",
       "      <th>postal_code</th>\n",
       "      <th>stars</th>\n",
       "      <th>review_count</th>\n",
       "      <th>attributes</th>\n",
       "      <th>categories</th>\n",
       "      <th>distance_in_km</th>\n",
       "      <th>duplicate_categories</th>\n",
       "      <th>n_dup_cat</th>\n",
       "    </tr>\n",
       "  </thead>\n",
       "  <tbody>\n",
       "    <tr>\n",
       "      <td>5057</td>\n",
       "      <td>MeNami</td>\n",
       "      <td>5469 Yonge Street</td>\n",
       "      <td>M2N 5S1</td>\n",
       "      <td>3.5</td>\n",
       "      <td>371</td>\n",
       "      <td>{'GoodForDancing': 'False', 'HasTV': 'True', '...</td>\n",
       "      <td>Japanese, Asian Fusion, Restaurants, Nightlife...</td>\n",
       "      <td>0.000000</td>\n",
       "      <td>Bars, Japanese, Korean, Nightlife, Udon, Asian...</td>\n",
       "      <td>7</td>\n",
       "    </tr>\n",
       "    <tr>\n",
       "      <td>7207</td>\n",
       "      <td>Han Ba Tang</td>\n",
       "      <td>4862 Yonge Street</td>\n",
       "      <td>M2N 5N2</td>\n",
       "      <td>3.5</td>\n",
       "      <td>256</td>\n",
       "      <td>{'WiFi': ''no'', 'RestaurantsTableService': 'T...</td>\n",
       "      <td>Restaurants, Bars, Nightlife, Tapas/Small Plat...</td>\n",
       "      <td>1.679040</td>\n",
       "      <td>Bars, Korean, Nightlife, Asian Fusion, Restaur...</td>\n",
       "      <td>5</td>\n",
       "    </tr>\n",
       "    <tr>\n",
       "      <td>12380</td>\n",
       "      <td>Hashi Izakaya</td>\n",
       "      <td>5582 Yonge Street</td>\n",
       "      <td>M2N 5S2</td>\n",
       "      <td>3.5</td>\n",
       "      <td>51</td>\n",
       "      <td>{'BusinessParking': '{'garage': False, 'street...</td>\n",
       "      <td>Restaurants, Korean, Nightlife, Japanese, Tapa...</td>\n",
       "      <td>0.174650</td>\n",
       "      <td>Bars, Japanese, Nightlife, Korean, Restaurants</td>\n",
       "      <td>5</td>\n",
       "    </tr>\n",
       "    <tr>\n",
       "      <td>15173</td>\n",
       "      <td>Koryo Korean Restaurant &amp; Bar</td>\n",
       "      <td>4922 Yonge St</td>\n",
       "      <td>M2N 5N5</td>\n",
       "      <td>3.5</td>\n",
       "      <td>29</td>\n",
       "      <td>{'GoodForMeal': '{'dessert': False, 'latenight...</td>\n",
       "      <td>Restaurants, Nightlife, Bars, Asian Fusion, Ko...</td>\n",
       "      <td>1.515033</td>\n",
       "      <td>Bars, Nightlife, Korean, Asian Fusion, Restaur...</td>\n",
       "      <td>5</td>\n",
       "    </tr>\n",
       "    <tr>\n",
       "      <td>11524</td>\n",
       "      <td>Oh Bar</td>\n",
       "      <td>5467 Yonge Street</td>\n",
       "      <td>M2N 5S1</td>\n",
       "      <td>3.0</td>\n",
       "      <td>6</td>\n",
       "      <td>{'GoodForKids': 'False', 'BikeParking': 'False...</td>\n",
       "      <td>Beer, Wine &amp; Spirits, Nightlife, Food, Restaur...</td>\n",
       "      <td>0.009873</td>\n",
       "      <td>Restaurants, Bars, Korean, Nightlife</td>\n",
       "      <td>4</td>\n",
       "    </tr>\n",
       "    <tr>\n",
       "      <td>4916</td>\n",
       "      <td>Dakgogi</td>\n",
       "      <td>5310 Yonge Street</td>\n",
       "      <td>M2N</td>\n",
       "      <td>3.5</td>\n",
       "      <td>82</td>\n",
       "      <td>{'RestaurantsReservations': 'True', 'CoatCheck...</td>\n",
       "      <td>Nightlife, Bars, Korean, Restaurants</td>\n",
       "      <td>0.545990</td>\n",
       "      <td>Bars, Korean, Nightlife, Restaurants</td>\n",
       "      <td>4</td>\n",
       "    </tr>\n",
       "    <tr>\n",
       "      <td>4193</td>\n",
       "      <td>Mymy Chicken</td>\n",
       "      <td>9 Spring Garden Avenue</td>\n",
       "      <td>M2N</td>\n",
       "      <td>4.0</td>\n",
       "      <td>161</td>\n",
       "      <td>{'BikeParking': 'True', 'WiFi': ''no'', 'Ambie...</td>\n",
       "      <td>Bars, Korean, Nightlife, Beer Bar, Restaurants...</td>\n",
       "      <td>1.538243</td>\n",
       "      <td>Restaurants, Bars, Korean, Nightlife</td>\n",
       "      <td>4</td>\n",
       "    </tr>\n",
       "    <tr>\n",
       "      <td>5494</td>\n",
       "      <td>Nomé Izakaya</td>\n",
       "      <td>4848 Yonge Street</td>\n",
       "      <td>M2N 5N2</td>\n",
       "      <td>4.0</td>\n",
       "      <td>512</td>\n",
       "      <td>{'HasTV': 'True', 'Ambience': '{'romantic': Fa...</td>\n",
       "      <td>Tapas Bars, Japanese, Restaurants, Lounges, Ba...</td>\n",
       "      <td>1.708626</td>\n",
       "      <td>Restaurants, Bars, Japanese, Nightlife</td>\n",
       "      <td>4</td>\n",
       "    </tr>\n",
       "    <tr>\n",
       "      <td>5963</td>\n",
       "      <td>Chicken in the Kitchen</td>\n",
       "      <td>5600 Yonge St</td>\n",
       "      <td>M2N 5S2</td>\n",
       "      <td>4.0</td>\n",
       "      <td>4</td>\n",
       "      <td>None</td>\n",
       "      <td>Restaurants, Nightlife, Bars, Korean, Chicken ...</td>\n",
       "      <td>0.202523</td>\n",
       "      <td>Restaurants, Bars, Nightlife, Korean</td>\n",
       "      <td>4</td>\n",
       "    </tr>\n",
       "    <tr>\n",
       "      <td>4812</td>\n",
       "      <td>Drunken Chicken</td>\n",
       "      <td>6070 Yonge Street</td>\n",
       "      <td>M2M 3W6</td>\n",
       "      <td>4.5</td>\n",
       "      <td>16</td>\n",
       "      <td>{'GoodForMeal': '{'dessert': False, 'latenight...</td>\n",
       "      <td>Korean, Nightlife, Chicken Wings, Pubs, Restau...</td>\n",
       "      <td>1.381345</td>\n",
       "      <td>Restaurants, Bars, Korean, Nightlife</td>\n",
       "      <td>4</td>\n",
       "    </tr>\n",
       "  </tbody>\n",
       "</table>\n",
       "</div>"
      ],
      "text/plain": [
       "                                name                 address postal_code  \\\n",
       "5057                          MeNami       5469 Yonge Street     M2N 5S1   \n",
       "7207                     Han Ba Tang       4862 Yonge Street     M2N 5N2   \n",
       "12380                  Hashi Izakaya       5582 Yonge Street     M2N 5S2   \n",
       "15173  Koryo Korean Restaurant & Bar           4922 Yonge St     M2N 5N5   \n",
       "11524                         Oh Bar       5467 Yonge Street     M2N 5S1   \n",
       "4916                         Dakgogi       5310 Yonge Street         M2N   \n",
       "4193                    Mymy Chicken  9 Spring Garden Avenue         M2N   \n",
       "5494                    Nomé Izakaya       4848 Yonge Street     M2N 5N2   \n",
       "5963          Chicken in the Kitchen           5600 Yonge St     M2N 5S2   \n",
       "4812                 Drunken Chicken       6070 Yonge Street     M2M 3W6   \n",
       "\n",
       "       stars  review_count                                         attributes  \\\n",
       "5057     3.5           371  {'GoodForDancing': 'False', 'HasTV': 'True', '...   \n",
       "7207     3.5           256  {'WiFi': ''no'', 'RestaurantsTableService': 'T...   \n",
       "12380    3.5            51  {'BusinessParking': '{'garage': False, 'street...   \n",
       "15173    3.5            29  {'GoodForMeal': '{'dessert': False, 'latenight...   \n",
       "11524    3.0             6  {'GoodForKids': 'False', 'BikeParking': 'False...   \n",
       "4916     3.5            82  {'RestaurantsReservations': 'True', 'CoatCheck...   \n",
       "4193     4.0           161  {'BikeParking': 'True', 'WiFi': ''no'', 'Ambie...   \n",
       "5494     4.0           512  {'HasTV': 'True', 'Ambience': '{'romantic': Fa...   \n",
       "5963     4.0             4                                               None   \n",
       "4812     4.5            16  {'GoodForMeal': '{'dessert': False, 'latenight...   \n",
       "\n",
       "                                              categories  distance_in_km  \\\n",
       "5057   Japanese, Asian Fusion, Restaurants, Nightlife...        0.000000   \n",
       "7207   Restaurants, Bars, Nightlife, Tapas/Small Plat...        1.679040   \n",
       "12380  Restaurants, Korean, Nightlife, Japanese, Tapa...        0.174650   \n",
       "15173  Restaurants, Nightlife, Bars, Asian Fusion, Ko...        1.515033   \n",
       "11524  Beer, Wine & Spirits, Nightlife, Food, Restaur...        0.009873   \n",
       "4916                Nightlife, Bars, Korean, Restaurants        0.545990   \n",
       "4193   Bars, Korean, Nightlife, Beer Bar, Restaurants...        1.538243   \n",
       "5494   Tapas Bars, Japanese, Restaurants, Lounges, Ba...        1.708626   \n",
       "5963   Restaurants, Nightlife, Bars, Korean, Chicken ...        0.202523   \n",
       "4812   Korean, Nightlife, Chicken Wings, Pubs, Restau...        1.381345   \n",
       "\n",
       "                                    duplicate_categories  n_dup_cat  \n",
       "5057   Bars, Japanese, Korean, Nightlife, Udon, Asian...          7  \n",
       "7207   Bars, Korean, Nightlife, Asian Fusion, Restaur...          5  \n",
       "12380     Bars, Japanese, Nightlife, Korean, Restaurants          5  \n",
       "15173  Bars, Nightlife, Korean, Asian Fusion, Restaur...          5  \n",
       "11524               Restaurants, Bars, Korean, Nightlife          4  \n",
       "4916                Bars, Korean, Nightlife, Restaurants          4  \n",
       "4193                Restaurants, Bars, Korean, Nightlife          4  \n",
       "5494              Restaurants, Bars, Japanese, Nightlife          4  \n",
       "5963                Restaurants, Bars, Nightlife, Korean          4  \n",
       "4812                Restaurants, Bars, Korean, Nightlife          4  "
      ]
     },
     "execution_count": 20,
     "metadata": {},
     "output_type": "execute_result"
    }
   ],
   "source": [
    "within_distance_direct_competitions.sort_values(['n_dup_cat'], ascending=False).head(10)"
   ]
  },
  {
   "cell_type": "code",
   "execution_count": 21,
   "metadata": {},
   "outputs": [
    {
     "data": {
      "text/plain": [
       "'Japanese, Asian Fusion, Restaurants, Nightlife, Udon, Bars, Korean'"
      ]
     },
     "execution_count": 21,
     "metadata": {},
     "output_type": "execute_result"
    }
   ],
   "source": [
    "my_business['categories']"
   ]
  },
  {
   "cell_type": "code",
   "execution_count": null,
   "metadata": {},
   "outputs": [],
   "source": []
  }
 ],
 "metadata": {
  "kernelspec": {
   "display_name": "Python 3",
   "language": "python",
   "name": "python3"
  },
  "language_info": {
   "codemirror_mode": {
    "name": "ipython",
    "version": 3
   },
   "file_extension": ".py",
   "mimetype": "text/x-python",
   "name": "python",
   "nbconvert_exporter": "python",
   "pygments_lexer": "ipython3",
   "version": "3.7.4"
  }
 },
 "nbformat": 4,
 "nbformat_minor": 2
}

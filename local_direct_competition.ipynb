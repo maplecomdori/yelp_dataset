{
 "cells": [
  {
   "cell_type": "code",
   "execution_count": 1,
   "metadata": {},
   "outputs": [
    {
     "data": {
      "text/plain": [
       "'\\nPlease think about 2 more analytics, which provide insights for existing/future \\u200bBusiness Owners\\u200b, \\nto make important decisions regarding new business or business expansion.\\n'"
      ]
     },
     "execution_count": 1,
     "metadata": {},
     "output_type": "execute_result"
    }
   ],
   "source": [
    "'''\n",
    "Please think about 2 more analytics, which provide insights for existing/future ​Business Owners​, \n",
    "to make important decisions regarding new business or business expansion.\n",
    "'''"
   ]
  },
  {
   "cell_type": "code",
   "execution_count": 2,
   "metadata": {},
   "outputs": [],
   "source": [
    "from pymongo import MongoClient\n",
    "import pandas as pd\n",
    "import pprint\n",
    "import geopy.distance\n",
    "\n",
    "client = MongoClient()\n",
    "dblist = client.list_database_names()\n",
    "db = client.yelp\n",
    "pp = pprint.PrettyPrinter(indent=4)"
   ]
  },
  {
   "cell_type": "markdown",
   "metadata": {},
   "source": [
    "# Find my business"
   ]
  },
  {
   "cell_type": "code",
   "execution_count": 3,
   "metadata": {},
   "outputs": [
    {
     "data": {
      "text/plain": [
       "{'_id': ObjectId('5dc9d09d2c31ec23f5a6ce1e'),\n",
       " 'business_id': 'C8_zdU7zGLUK3uC4e5AepQ',\n",
       " 'name': 'MeNami',\n",
       " 'address': '5469 Yonge Street',\n",
       " 'city': 'Toronto',\n",
       " 'state': 'ON',\n",
       " 'postal_code': 'M2N 5S1',\n",
       " 'latitude': 43.7778404,\n",
       " 'longitude': -79.4147699,\n",
       " 'stars': 3.5,\n",
       " 'review_count': 371,\n",
       " 'is_open': 1,\n",
       " 'attributes': {'GoodForDancing': 'False',\n",
       "  'HasTV': 'True',\n",
       "  'CoatCheck': 'False',\n",
       "  'RestaurantsPriceRange2': '2',\n",
       "  'Smoking': \"u'no'\",\n",
       "  'RestaurantsGoodForGroups': 'True',\n",
       "  'GoodForKids': 'False',\n",
       "  'RestaurantsTakeOut': 'True',\n",
       "  'BikeParking': 'True',\n",
       "  'RestaurantsDelivery': 'False',\n",
       "  'BestNights': \"{'monday': False, 'tuesday': False, 'friday': False, 'wednesday': False, 'thursday': False, 'sunday': False, 'saturday': True}\",\n",
       "  'RestaurantsReservations': 'True',\n",
       "  'GoodForMeal': \"{'dessert': False, 'latenight': True, 'lunch': True, 'dinner': True, 'brunch': False, 'breakfast': False}\",\n",
       "  'BusinessParking': \"{'garage': False, 'street': True, 'validated': False, 'lot': False, 'valet': False}\",\n",
       "  'HappyHour': 'False',\n",
       "  'Caters': 'False',\n",
       "  'RestaurantsTableService': 'True',\n",
       "  'OutdoorSeating': 'False',\n",
       "  'Alcohol': \"u'full_bar'\",\n",
       "  'Music': \"{'dj': False, 'background_music': True, 'jukebox': False, 'live': False, 'video': False, 'karaoke': False}\",\n",
       "  'Ambience': \"{'romantic': False, 'intimate': False, 'classy': False, 'hipster': True, 'divey': False, 'touristy': False, 'trendy': True, 'upscale': False, 'casual': False}\",\n",
       "  'BusinessAcceptsCreditCards': 'True',\n",
       "  'RestaurantsAttire': \"'casual'\",\n",
       "  'NoiseLevel': \"u'average'\",\n",
       "  'WiFi': \"u'no'\"},\n",
       " 'categories': 'Japanese, Asian Fusion, Restaurants, Nightlife, Udon, Bars, Korean',\n",
       " 'hours': {'Monday': '11:30-2:30',\n",
       "  'Tuesday': '11:30-2:30',\n",
       "  'Wednesday': '11:30-2:30',\n",
       "  'Thursday': '11:30-2:30',\n",
       "  'Friday': '11:30-2:30',\n",
       "  'Saturday': '11:30-2:30',\n",
       "  'Sunday': '11:30-0:0'}}"
      ]
     },
     "execution_count": 3,
     "metadata": {},
     "output_type": "execute_result"
    }
   ],
   "source": [
    "my_business = db.business.find_one({\"name\": \"MeNami\"})\n",
    "my_business"
   ]
  },
  {
   "cell_type": "markdown",
   "metadata": {},
   "source": [
    "## Get City and State of Interest"
   ]
  },
  {
   "cell_type": "code",
   "execution_count": 4,
   "metadata": {},
   "outputs": [],
   "source": [
    "# city = my_business['city']\n",
    "# state = my_business['state']\n",
    "city = \"Toronto\"\n",
    "state = \"ON\"\n",
    "target_distance = 2"
   ]
  },
  {
   "cell_type": "markdown",
   "metadata": {},
   "source": [
    "## Get Businesses in the Same City"
   ]
  },
  {
   "cell_type": "code",
   "execution_count": 5,
   "metadata": {},
   "outputs": [],
   "source": [
    "query = {\n",
    "    \"city\": city,\n",
    "    \"state\": state\n",
    "}\n"
   ]
  },
  {
   "cell_type": "code",
   "execution_count": 6,
   "metadata": {},
   "outputs": [],
   "source": [
    "cursor = db.business.find(query)"
   ]
  },
  {
   "cell_type": "code",
   "execution_count": 7,
   "metadata": {},
   "outputs": [],
   "source": [
    "lst_business = list(cursor)"
   ]
  },
  {
   "cell_type": "code",
   "execution_count": 8,
   "metadata": {},
   "outputs": [],
   "source": [
    "df_business = pd.DataFrame(lst_business)"
   ]
  },
  {
   "cell_type": "code",
   "execution_count": 9,
   "metadata": {},
   "outputs": [
    {
     "name": "stdout",
     "output_type": "stream",
     "text": [
      "<class 'pandas.core.frame.DataFrame'>\n",
      "RangeIndex: 18904 entries, 0 to 18903\n",
      "Data columns (total 15 columns):\n",
      "_id             18904 non-null object\n",
      "business_id     18904 non-null object\n",
      "name            18904 non-null object\n",
      "address         18904 non-null object\n",
      "city            18904 non-null object\n",
      "state           18904 non-null object\n",
      "postal_code     18904 non-null object\n",
      "latitude        18904 non-null float64\n",
      "longitude       18904 non-null float64\n",
      "stars           18904 non-null float64\n",
      "review_count    18904 non-null int64\n",
      "is_open         18904 non-null int64\n",
      "attributes      16138 non-null object\n",
      "categories      18874 non-null object\n",
      "hours           13881 non-null object\n",
      "dtypes: float64(3), int64(2), object(10)\n",
      "memory usage: 2.2+ MB\n"
     ]
    }
   ],
   "source": [
    "df_business.info()"
   ]
  },
  {
   "cell_type": "code",
   "execution_count": 10,
   "metadata": {},
   "outputs": [],
   "source": [
    "df_business = df_business[df_business['is_open'] == 1]\n",
    "df_business = df_business.drop(['city', 'state', 'business_id', '_id', 'is_open', 'hours'], axis=1)\n"
   ]
  },
  {
   "cell_type": "code",
   "execution_count": 11,
   "metadata": {},
   "outputs": [
    {
     "data": {
      "text/html": [
       "<div>\n",
       "<style scoped>\n",
       "    .dataframe tbody tr th:only-of-type {\n",
       "        vertical-align: middle;\n",
       "    }\n",
       "\n",
       "    .dataframe tbody tr th {\n",
       "        vertical-align: top;\n",
       "    }\n",
       "\n",
       "    .dataframe thead th {\n",
       "        text-align: right;\n",
       "    }\n",
       "</style>\n",
       "<table border=\"1\" class=\"dataframe\">\n",
       "  <thead>\n",
       "    <tr style=\"text-align: right;\">\n",
       "      <th></th>\n",
       "      <th>name</th>\n",
       "      <th>address</th>\n",
       "      <th>postal_code</th>\n",
       "      <th>latitude</th>\n",
       "      <th>longitude</th>\n",
       "      <th>stars</th>\n",
       "      <th>review_count</th>\n",
       "      <th>attributes</th>\n",
       "      <th>categories</th>\n",
       "    </tr>\n",
       "  </thead>\n",
       "  <tbody>\n",
       "    <tr>\n",
       "      <td>12386</td>\n",
       "      <td>Pai Northern Thai Kitchen</td>\n",
       "      <td>18 Duncan Street</td>\n",
       "      <td>M5H 3G8</td>\n",
       "      <td>43.647866</td>\n",
       "      <td>-79.388642</td>\n",
       "      <td>4.5</td>\n",
       "      <td>2121</td>\n",
       "      <td>{'Ambience': '{'romantic': False, 'intimate': ...</td>\n",
       "      <td>Restaurants, Food, Thai, Ethnic Food, Specialt...</td>\n",
       "    </tr>\n",
       "    <tr>\n",
       "      <td>15889</td>\n",
       "      <td>Khao San Road</td>\n",
       "      <td>11 Charlotte Street</td>\n",
       "      <td>M5V 2H5</td>\n",
       "      <td>43.646411</td>\n",
       "      <td>-79.393480</td>\n",
       "      <td>4.0</td>\n",
       "      <td>1410</td>\n",
       "      <td>{'OutdoorSeating': 'False', 'BikeParking': 'Tr...</td>\n",
       "      <td>Thai, Restaurants</td>\n",
       "    </tr>\n",
       "    <tr>\n",
       "      <td>17495</td>\n",
       "      <td>KINKA IZAKAYA ORIGINAL</td>\n",
       "      <td>398 Church St</td>\n",
       "      <td>M5B 2A2</td>\n",
       "      <td>43.660430</td>\n",
       "      <td>-79.378927</td>\n",
       "      <td>4.0</td>\n",
       "      <td>1397</td>\n",
       "      <td>{'RestaurantsGoodForGroups': 'True', 'NoiseLev...</td>\n",
       "      <td>Bars, Restaurants, Japanese, Tapas/Small Plate...</td>\n",
       "    </tr>\n",
       "    <tr>\n",
       "      <td>11201</td>\n",
       "      <td>Seven Lives Tacos Y Mariscos</td>\n",
       "      <td>69 Kensington Avenue</td>\n",
       "      <td>M5T 2K2</td>\n",
       "      <td>43.654341</td>\n",
       "      <td>-79.400480</td>\n",
       "      <td>4.5</td>\n",
       "      <td>1152</td>\n",
       "      <td>{'NoiseLevel': 'u'average'', 'RestaurantsDeliv...</td>\n",
       "      <td>Seafood, Restaurants, Mexican</td>\n",
       "    </tr>\n",
       "    <tr>\n",
       "      <td>9772</td>\n",
       "      <td>Banh Mi Boys</td>\n",
       "      <td>392 Queen Street W</td>\n",
       "      <td>M5V 2A9</td>\n",
       "      <td>43.648827</td>\n",
       "      <td>-79.396970</td>\n",
       "      <td>4.5</td>\n",
       "      <td>1045</td>\n",
       "      <td>{'NoiseLevel': 'u'average'', 'Ambience': '{'ro...</td>\n",
       "      <td>Sandwiches, Restaurants, Asian Fusion, Food, D...</td>\n",
       "    </tr>\n",
       "  </tbody>\n",
       "</table>\n",
       "</div>"
      ],
      "text/plain": [
       "                               name               address postal_code  \\\n",
       "12386     Pai Northern Thai Kitchen      18 Duncan Street     M5H 3G8   \n",
       "15889                 Khao San Road   11 Charlotte Street     M5V 2H5   \n",
       "17495        KINKA IZAKAYA ORIGINAL         398 Church St     M5B 2A2   \n",
       "11201  Seven Lives Tacos Y Mariscos  69 Kensington Avenue     M5T 2K2   \n",
       "9772                   Banh Mi Boys    392 Queen Street W     M5V 2A9   \n",
       "\n",
       "        latitude  longitude  stars  review_count  \\\n",
       "12386  43.647866 -79.388642    4.5          2121   \n",
       "15889  43.646411 -79.393480    4.0          1410   \n",
       "17495  43.660430 -79.378927    4.0          1397   \n",
       "11201  43.654341 -79.400480    4.5          1152   \n",
       "9772   43.648827 -79.396970    4.5          1045   \n",
       "\n",
       "                                              attributes  \\\n",
       "12386  {'Ambience': '{'romantic': False, 'intimate': ...   \n",
       "15889  {'OutdoorSeating': 'False', 'BikeParking': 'Tr...   \n",
       "17495  {'RestaurantsGoodForGroups': 'True', 'NoiseLev...   \n",
       "11201  {'NoiseLevel': 'u'average'', 'RestaurantsDeliv...   \n",
       "9772   {'NoiseLevel': 'u'average'', 'Ambience': '{'ro...   \n",
       "\n",
       "                                              categories  \n",
       "12386  Restaurants, Food, Thai, Ethnic Food, Specialt...  \n",
       "15889                                  Thai, Restaurants  \n",
       "17495  Bars, Restaurants, Japanese, Tapas/Small Plate...  \n",
       "11201                      Seafood, Restaurants, Mexican  \n",
       "9772   Sandwiches, Restaurants, Asian Fusion, Food, D...  "
      ]
     },
     "execution_count": 11,
     "metadata": {},
     "output_type": "execute_result"
    }
   ],
   "source": [
    "df_business.sort_values(['review_count'], ascending=False).head()"
   ]
  },
  {
   "cell_type": "markdown",
   "metadata": {},
   "source": [
    "# Caclulate Distance from My Business"
   ]
  },
  {
   "cell_type": "code",
   "execution_count": 12,
   "metadata": {},
   "outputs": [],
   "source": [
    "df_business['distance_in_km'] = df_business.apply(\n",
    "    lambda row: geopy.distance.geodesic((row['latitude'], row['longitude']), \n",
    "                                        (my_business['latitude'], my_business['longitude'])).km, axis=1)"
   ]
  },
  {
   "cell_type": "code",
   "execution_count": 13,
   "metadata": {},
   "outputs": [
    {
     "data": {
      "text/plain": [
       "0        14.833844\n",
       "1         5.877275\n",
       "2        12.047466\n",
       "3        15.018624\n",
       "6         8.453550\n",
       "           ...    \n",
       "18899    13.352176\n",
       "18900    11.555552\n",
       "18901     8.262416\n",
       "18902    12.754543\n",
       "18903    12.023586\n",
       "Name: distance_in_km, Length: 14329, dtype: float64"
      ]
     },
     "execution_count": 13,
     "metadata": {},
     "output_type": "execute_result"
    }
   ],
   "source": [
    "df_business['distance_in_km']"
   ]
  },
  {
   "cell_type": "markdown",
   "metadata": {},
   "source": [
    "# Find Businesses within Target Distance"
   ]
  },
  {
   "cell_type": "code",
   "execution_count": 14,
   "metadata": {},
   "outputs": [],
   "source": [
    "within_distance = df_business[df_business['distance_in_km'] < target_distance]\n",
    "within_distance = within_distance.drop(['latitude', 'longitude'], axis=1)"
   ]
  },
  {
   "cell_type": "code",
   "execution_count": 15,
   "metadata": {
    "scrolled": true
   },
   "outputs": [
    {
     "name": "stdout",
     "output_type": "stream",
     "text": [
      "<class 'pandas.core.frame.DataFrame'>\n",
      "Int64Index: 300 entries, 87 to 18851\n",
      "Data columns (total 8 columns):\n",
      "name              300 non-null object\n",
      "address           300 non-null object\n",
      "postal_code       300 non-null object\n",
      "stars             300 non-null float64\n",
      "review_count      300 non-null int64\n",
      "attributes        245 non-null object\n",
      "categories        300 non-null object\n",
      "distance_in_km    300 non-null float64\n",
      "dtypes: float64(2), int64(1), object(5)\n",
      "memory usage: 21.1+ KB\n"
     ]
    }
   ],
   "source": [
    "within_distance.info()"
   ]
  },
  {
   "cell_type": "code",
   "execution_count": 23,
   "metadata": {},
   "outputs": [
    {
     "data": {
      "text/html": [
       "<div>\n",
       "<style scoped>\n",
       "    .dataframe tbody tr th:only-of-type {\n",
       "        vertical-align: middle;\n",
       "    }\n",
       "\n",
       "    .dataframe tbody tr th {\n",
       "        vertical-align: top;\n",
       "    }\n",
       "\n",
       "    .dataframe thead th {\n",
       "        text-align: right;\n",
       "    }\n",
       "</style>\n",
       "<table border=\"1\" class=\"dataframe\">\n",
       "  <thead>\n",
       "    <tr style=\"text-align: right;\">\n",
       "      <th></th>\n",
       "      <th>name</th>\n",
       "      <th>address</th>\n",
       "      <th>postal_code</th>\n",
       "      <th>stars</th>\n",
       "      <th>review_count</th>\n",
       "      <th>attributes</th>\n",
       "      <th>categories</th>\n",
       "      <th>distance_in_km</th>\n",
       "      <th>duplicate_categories</th>\n",
       "    </tr>\n",
       "  </thead>\n",
       "  <tbody>\n",
       "    <tr>\n",
       "      <td>87</td>\n",
       "      <td>Madison Sports Injury and Rehabilitation Clinic</td>\n",
       "      <td>4950 Yonge Street, Concourse Level, Unit 2</td>\n",
       "      <td>M2N 6K1</td>\n",
       "      <td>3.5</td>\n",
       "      <td>3</td>\n",
       "      <td>{'ByAppointmentOnly': 'True', 'AcceptsInsuranc...</td>\n",
       "      <td>Physical Therapy, Doctors, Chiropractors, Heal...</td>\n",
       "      <td>1.439600</td>\n",
       "      <td></td>\n",
       "    </tr>\n",
       "    <tr>\n",
       "      <td>158</td>\n",
       "      <td>Mary-am Hotel</td>\n",
       "      <td>170 Willowdale Avenue</td>\n",
       "      <td>M2N 4Y6</td>\n",
       "      <td>3.0</td>\n",
       "      <td>3</td>\n",
       "      <td>{'RestaurantsPriceRange2': '2', 'WiFi': 'u'fre...</td>\n",
       "      <td>Hotels, Event Planning &amp; Services, Hotels &amp; Tr...</td>\n",
       "      <td>1.621103</td>\n",
       "      <td></td>\n",
       "    </tr>\n",
       "    <tr>\n",
       "      <td>197</td>\n",
       "      <td>The UPS Store</td>\n",
       "      <td>4936 Yonge Street</td>\n",
       "      <td>M2N 6S3</td>\n",
       "      <td>5.0</td>\n",
       "      <td>3</td>\n",
       "      <td>None</td>\n",
       "      <td>Shopping, Local Services, Shipping Centers, Co...</td>\n",
       "      <td>1.506759</td>\n",
       "      <td></td>\n",
       "    </tr>\n",
       "    <tr>\n",
       "      <td>294</td>\n",
       "      <td>Nanashake</td>\n",
       "      <td>4750 Yonge Street, Unit 134</td>\n",
       "      <td>M2N 0J6</td>\n",
       "      <td>3.5</td>\n",
       "      <td>51</td>\n",
       "      <td>{'Caters': 'True', 'DietaryRestrictions': '{'d...</td>\n",
       "      <td>Food, Restaurants, Vegetarian, Ice Cream &amp; Fro...</td>\n",
       "      <td>1.986642</td>\n",
       "      <td>Restaurants</td>\n",
       "    </tr>\n",
       "    <tr>\n",
       "      <td>315</td>\n",
       "      <td>H2 Nails &amp; Spa</td>\n",
       "      <td>5311 Yonge Street</td>\n",
       "      <td>M2N 5R4</td>\n",
       "      <td>2.5</td>\n",
       "      <td>14</td>\n",
       "      <td>{'BusinessParking': '{'garage': False, 'street...</td>\n",
       "      <td>Nail Salons, Beauty &amp; Spas</td>\n",
       "      <td>0.518014</td>\n",
       "      <td></td>\n",
       "    </tr>\n",
       "  </tbody>\n",
       "</table>\n",
       "</div>"
      ],
      "text/plain": [
       "                                                name  \\\n",
       "87   Madison Sports Injury and Rehabilitation Clinic   \n",
       "158                                    Mary-am Hotel   \n",
       "197                                    The UPS Store   \n",
       "294                                        Nanashake   \n",
       "315                                   H2 Nails & Spa   \n",
       "\n",
       "                                        address postal_code  stars  \\\n",
       "87   4950 Yonge Street, Concourse Level, Unit 2     M2N 6K1    3.5   \n",
       "158                       170 Willowdale Avenue     M2N 4Y6    3.0   \n",
       "197                           4936 Yonge Street     M2N 6S3    5.0   \n",
       "294                 4750 Yonge Street, Unit 134     M2N 0J6    3.5   \n",
       "315                           5311 Yonge Street     M2N 5R4    2.5   \n",
       "\n",
       "     review_count                                         attributes  \\\n",
       "87              3  {'ByAppointmentOnly': 'True', 'AcceptsInsuranc...   \n",
       "158             3  {'RestaurantsPriceRange2': '2', 'WiFi': 'u'fre...   \n",
       "197             3                                               None   \n",
       "294            51  {'Caters': 'True', 'DietaryRestrictions': '{'d...   \n",
       "315            14  {'BusinessParking': '{'garage': False, 'street...   \n",
       "\n",
       "                                            categories  distance_in_km  \\\n",
       "87   Physical Therapy, Doctors, Chiropractors, Heal...        1.439600   \n",
       "158  Hotels, Event Planning & Services, Hotels & Tr...        1.621103   \n",
       "197  Shopping, Local Services, Shipping Centers, Co...        1.506759   \n",
       "294  Food, Restaurants, Vegetarian, Ice Cream & Fro...        1.986642   \n",
       "315                         Nail Salons, Beauty & Spas        0.518014   \n",
       "\n",
       "    duplicate_categories  \n",
       "87                        \n",
       "158                       \n",
       "197                       \n",
       "294          Restaurants  \n",
       "315                       "
      ]
     },
     "execution_count": 23,
     "metadata": {},
     "output_type": "execute_result"
    }
   ],
   "source": [
    "within_distance.head()"
   ]
  },
  {
   "cell_type": "markdown",
   "metadata": {},
   "source": [
    "# Find Businesses with Similar Categories"
   ]
  },
  {
   "cell_type": "code",
   "execution_count": 16,
   "metadata": {},
   "outputs": [],
   "source": [
    "within_distance['duplicate_categories'] = within_distance['categories'].apply(lambda row: \n",
    "                                                                        ', '.join(set(my_business['categories'].split(', '))\n",
    "                                                                        .intersection(\n",
    "                                                                            set(row.split(', '))\n",
    "                                                                        ) ))"
   ]
  },
  {
   "cell_type": "code",
   "execution_count": 17,
   "metadata": {
    "scrolled": true
   },
   "outputs": [
    {
     "data": {
      "text/plain": [
       "87                \n",
       "158               \n",
       "197               \n",
       "294    Restaurants\n",
       "315               \n",
       "Name: duplicate_categories, dtype: object"
      ]
     },
     "execution_count": 17,
     "metadata": {},
     "output_type": "execute_result"
    }
   ],
   "source": [
    "within_distance['duplicate_categories'].head()"
   ]
  },
  {
   "cell_type": "code",
   "execution_count": 18,
   "metadata": {},
   "outputs": [
    {
     "name": "stderr",
     "output_type": "stream",
     "text": [
      "/Users/leeseunghoon/opt/anaconda3/lib/python3.7/site-packages/ipykernel_launcher.py:2: SettingWithCopyWarning: \n",
      "A value is trying to be set on a copy of a slice from a DataFrame.\n",
      "Try using .loc[row_indexer,col_indexer] = value instead\n",
      "\n",
      "See the caveats in the documentation: http://pandas.pydata.org/pandas-docs/stable/user_guide/indexing.html#returning-a-view-versus-a-copy\n",
      "  \n"
     ]
    }
   ],
   "source": [
    "within_distance_direct_competitions = within_distance[within_distance['duplicate_categories'] != '']\n",
    "within_distance_direct_competitions['n_dup_cat'] = within_distance_direct_competitions['duplicate_categories'].apply(lambda x: len(x.split(', ')))"
   ]
  },
  {
   "cell_type": "code",
   "execution_count": 19,
   "metadata": {},
   "outputs": [
    {
     "name": "stdout",
     "output_type": "stream",
     "text": [
      "<class 'pandas.core.frame.DataFrame'>\n",
      "Int64Index: 154 entries, 294 to 18851\n",
      "Data columns (total 10 columns):\n",
      "name                    154 non-null object\n",
      "address                 154 non-null object\n",
      "postal_code             154 non-null object\n",
      "stars                   154 non-null float64\n",
      "review_count            154 non-null int64\n",
      "attributes              136 non-null object\n",
      "categories              154 non-null object\n",
      "distance_in_km          154 non-null float64\n",
      "duplicate_categories    154 non-null object\n",
      "n_dup_cat               154 non-null int64\n",
      "dtypes: float64(2), int64(2), object(6)\n",
      "memory usage: 13.2+ KB\n"
     ]
    }
   ],
   "source": [
    "within_distance_direct_competitions.info()"
   ]
  },
  {
   "cell_type": "code",
   "execution_count": 20,
   "metadata": {},
   "outputs": [],
   "source": [
    "within_distance_direct_competitions = within_distance_direct_competitions.set_index('name')"
   ]
  },
  {
   "cell_type": "code",
   "execution_count": 21,
   "metadata": {},
   "outputs": [
    {
     "data": {
      "text/html": [
       "<div>\n",
       "<style scoped>\n",
       "    .dataframe tbody tr th:only-of-type {\n",
       "        vertical-align: middle;\n",
       "    }\n",
       "\n",
       "    .dataframe tbody tr th {\n",
       "        vertical-align: top;\n",
       "    }\n",
       "\n",
       "    .dataframe thead th {\n",
       "        text-align: right;\n",
       "    }\n",
       "</style>\n",
       "<table border=\"1\" class=\"dataframe\">\n",
       "  <thead>\n",
       "    <tr style=\"text-align: right;\">\n",
       "      <th></th>\n",
       "      <th>address</th>\n",
       "      <th>postal_code</th>\n",
       "      <th>stars</th>\n",
       "      <th>review_count</th>\n",
       "      <th>attributes</th>\n",
       "      <th>categories</th>\n",
       "      <th>distance_in_km</th>\n",
       "      <th>duplicate_categories</th>\n",
       "      <th>n_dup_cat</th>\n",
       "    </tr>\n",
       "    <tr>\n",
       "      <th>name</th>\n",
       "      <th></th>\n",
       "      <th></th>\n",
       "      <th></th>\n",
       "      <th></th>\n",
       "      <th></th>\n",
       "      <th></th>\n",
       "      <th></th>\n",
       "      <th></th>\n",
       "      <th></th>\n",
       "    </tr>\n",
       "  </thead>\n",
       "  <tbody>\n",
       "    <tr>\n",
       "      <td>MeNami</td>\n",
       "      <td>5469 Yonge Street</td>\n",
       "      <td>M2N 5S1</td>\n",
       "      <td>3.5</td>\n",
       "      <td>371</td>\n",
       "      <td>{'GoodForDancing': 'False', 'HasTV': 'True', '...</td>\n",
       "      <td>Japanese, Asian Fusion, Restaurants, Nightlife...</td>\n",
       "      <td>0.000000</td>\n",
       "      <td>Asian Fusion, Korean, Udon, Restaurants, Night...</td>\n",
       "      <td>7</td>\n",
       "    </tr>\n",
       "    <tr>\n",
       "      <td>Han Ba Tang</td>\n",
       "      <td>4862 Yonge Street</td>\n",
       "      <td>M2N 5N2</td>\n",
       "      <td>3.5</td>\n",
       "      <td>256</td>\n",
       "      <td>{'WiFi': ''no'', 'RestaurantsTableService': 'T...</td>\n",
       "      <td>Restaurants, Bars, Nightlife, Tapas/Small Plat...</td>\n",
       "      <td>1.679040</td>\n",
       "      <td>Asian Fusion, Korean, Restaurants, Nightlife, ...</td>\n",
       "      <td>5</td>\n",
       "    </tr>\n",
       "    <tr>\n",
       "      <td>Hashi Izakaya</td>\n",
       "      <td>5582 Yonge Street</td>\n",
       "      <td>M2N 5S2</td>\n",
       "      <td>3.5</td>\n",
       "      <td>51</td>\n",
       "      <td>{'BusinessParking': '{'garage': False, 'street...</td>\n",
       "      <td>Restaurants, Korean, Nightlife, Japanese, Tapa...</td>\n",
       "      <td>0.174650</td>\n",
       "      <td>Korean, Restaurants, Nightlife, Bars, Japanese</td>\n",
       "      <td>5</td>\n",
       "    </tr>\n",
       "    <tr>\n",
       "      <td>Koryo Korean Restaurant &amp; Bar</td>\n",
       "      <td>4922 Yonge St</td>\n",
       "      <td>M2N 5N5</td>\n",
       "      <td>3.5</td>\n",
       "      <td>29</td>\n",
       "      <td>{'GoodForMeal': '{'dessert': False, 'latenight...</td>\n",
       "      <td>Restaurants, Nightlife, Bars, Asian Fusion, Ko...</td>\n",
       "      <td>1.515033</td>\n",
       "      <td>Asian Fusion, Korean, Restaurants, Nightlife, ...</td>\n",
       "      <td>5</td>\n",
       "    </tr>\n",
       "    <tr>\n",
       "      <td>Oh Bar</td>\n",
       "      <td>5467 Yonge Street</td>\n",
       "      <td>M2N 5S1</td>\n",
       "      <td>3.0</td>\n",
       "      <td>6</td>\n",
       "      <td>{'GoodForKids': 'False', 'BikeParking': 'False...</td>\n",
       "      <td>Beer, Wine &amp; Spirits, Nightlife, Food, Restaur...</td>\n",
       "      <td>0.009873</td>\n",
       "      <td>Nightlife, Korean, Bars, Restaurants</td>\n",
       "      <td>4</td>\n",
       "    </tr>\n",
       "    <tr>\n",
       "      <td>Dakgogi</td>\n",
       "      <td>5310 Yonge Street</td>\n",
       "      <td>M2N</td>\n",
       "      <td>3.5</td>\n",
       "      <td>82</td>\n",
       "      <td>{'RestaurantsReservations': 'True', 'CoatCheck...</td>\n",
       "      <td>Nightlife, Bars, Korean, Restaurants</td>\n",
       "      <td>0.545990</td>\n",
       "      <td>Nightlife, Restaurants, Korean, Bars</td>\n",
       "      <td>4</td>\n",
       "    </tr>\n",
       "    <tr>\n",
       "      <td>Mymy Chicken</td>\n",
       "      <td>9 Spring Garden Avenue</td>\n",
       "      <td>M2N</td>\n",
       "      <td>4.0</td>\n",
       "      <td>161</td>\n",
       "      <td>{'BikeParking': 'True', 'WiFi': ''no'', 'Ambie...</td>\n",
       "      <td>Bars, Korean, Nightlife, Beer Bar, Restaurants...</td>\n",
       "      <td>1.538243</td>\n",
       "      <td>Nightlife, Korean, Bars, Restaurants</td>\n",
       "      <td>4</td>\n",
       "    </tr>\n",
       "    <tr>\n",
       "      <td>Nomé Izakaya</td>\n",
       "      <td>4848 Yonge Street</td>\n",
       "      <td>M2N 5N2</td>\n",
       "      <td>4.0</td>\n",
       "      <td>512</td>\n",
       "      <td>{'HasTV': 'True', 'Ambience': '{'romantic': Fa...</td>\n",
       "      <td>Tapas Bars, Japanese, Restaurants, Lounges, Ba...</td>\n",
       "      <td>1.708626</td>\n",
       "      <td>Nightlife, Bars, Japanese, Restaurants</td>\n",
       "      <td>4</td>\n",
       "    </tr>\n",
       "    <tr>\n",
       "      <td>Chicken in the Kitchen</td>\n",
       "      <td>5600 Yonge St</td>\n",
       "      <td>M2N 5S2</td>\n",
       "      <td>4.0</td>\n",
       "      <td>4</td>\n",
       "      <td>None</td>\n",
       "      <td>Restaurants, Nightlife, Bars, Korean, Chicken ...</td>\n",
       "      <td>0.202523</td>\n",
       "      <td>Nightlife, Korean, Bars, Restaurants</td>\n",
       "      <td>4</td>\n",
       "    </tr>\n",
       "    <tr>\n",
       "      <td>Drunken Chicken</td>\n",
       "      <td>6070 Yonge Street</td>\n",
       "      <td>M2M 3W6</td>\n",
       "      <td>4.5</td>\n",
       "      <td>16</td>\n",
       "      <td>{'GoodForMeal': '{'dessert': False, 'latenight...</td>\n",
       "      <td>Korean, Nightlife, Chicken Wings, Pubs, Restau...</td>\n",
       "      <td>1.381345</td>\n",
       "      <td>Nightlife, Korean, Bars, Restaurants</td>\n",
       "      <td>4</td>\n",
       "    </tr>\n",
       "  </tbody>\n",
       "</table>\n",
       "</div>"
      ],
      "text/plain": [
       "                                              address postal_code  stars  \\\n",
       "name                                                                       \n",
       "MeNami                              5469 Yonge Street     M2N 5S1    3.5   \n",
       "Han Ba Tang                         4862 Yonge Street     M2N 5N2    3.5   \n",
       "Hashi Izakaya                       5582 Yonge Street     M2N 5S2    3.5   \n",
       "Koryo Korean Restaurant & Bar           4922 Yonge St     M2N 5N5    3.5   \n",
       "Oh Bar                              5467 Yonge Street     M2N 5S1    3.0   \n",
       "Dakgogi                             5310 Yonge Street         M2N    3.5   \n",
       "Mymy Chicken                   9 Spring Garden Avenue         M2N    4.0   \n",
       "Nomé Izakaya                        4848 Yonge Street     M2N 5N2    4.0   \n",
       "Chicken in the Kitchen                  5600 Yonge St     M2N 5S2    4.0   \n",
       "Drunken Chicken                     6070 Yonge Street     M2M 3W6    4.5   \n",
       "\n",
       "                               review_count  \\\n",
       "name                                          \n",
       "MeNami                                  371   \n",
       "Han Ba Tang                             256   \n",
       "Hashi Izakaya                            51   \n",
       "Koryo Korean Restaurant & Bar            29   \n",
       "Oh Bar                                    6   \n",
       "Dakgogi                                  82   \n",
       "Mymy Chicken                            161   \n",
       "Nomé Izakaya                            512   \n",
       "Chicken in the Kitchen                    4   \n",
       "Drunken Chicken                          16   \n",
       "\n",
       "                                                                      attributes  \\\n",
       "name                                                                               \n",
       "MeNami                         {'GoodForDancing': 'False', 'HasTV': 'True', '...   \n",
       "Han Ba Tang                    {'WiFi': ''no'', 'RestaurantsTableService': 'T...   \n",
       "Hashi Izakaya                  {'BusinessParking': '{'garage': False, 'street...   \n",
       "Koryo Korean Restaurant & Bar  {'GoodForMeal': '{'dessert': False, 'latenight...   \n",
       "Oh Bar                         {'GoodForKids': 'False', 'BikeParking': 'False...   \n",
       "Dakgogi                        {'RestaurantsReservations': 'True', 'CoatCheck...   \n",
       "Mymy Chicken                   {'BikeParking': 'True', 'WiFi': ''no'', 'Ambie...   \n",
       "Nomé Izakaya                   {'HasTV': 'True', 'Ambience': '{'romantic': Fa...   \n",
       "Chicken in the Kitchen                                                      None   \n",
       "Drunken Chicken                {'GoodForMeal': '{'dessert': False, 'latenight...   \n",
       "\n",
       "                                                                      categories  \\\n",
       "name                                                                               \n",
       "MeNami                         Japanese, Asian Fusion, Restaurants, Nightlife...   \n",
       "Han Ba Tang                    Restaurants, Bars, Nightlife, Tapas/Small Plat...   \n",
       "Hashi Izakaya                  Restaurants, Korean, Nightlife, Japanese, Tapa...   \n",
       "Koryo Korean Restaurant & Bar  Restaurants, Nightlife, Bars, Asian Fusion, Ko...   \n",
       "Oh Bar                         Beer, Wine & Spirits, Nightlife, Food, Restaur...   \n",
       "Dakgogi                                     Nightlife, Bars, Korean, Restaurants   \n",
       "Mymy Chicken                   Bars, Korean, Nightlife, Beer Bar, Restaurants...   \n",
       "Nomé Izakaya                   Tapas Bars, Japanese, Restaurants, Lounges, Ba...   \n",
       "Chicken in the Kitchen         Restaurants, Nightlife, Bars, Korean, Chicken ...   \n",
       "Drunken Chicken                Korean, Nightlife, Chicken Wings, Pubs, Restau...   \n",
       "\n",
       "                               distance_in_km  \\\n",
       "name                                            \n",
       "MeNami                               0.000000   \n",
       "Han Ba Tang                          1.679040   \n",
       "Hashi Izakaya                        0.174650   \n",
       "Koryo Korean Restaurant & Bar        1.515033   \n",
       "Oh Bar                               0.009873   \n",
       "Dakgogi                              0.545990   \n",
       "Mymy Chicken                         1.538243   \n",
       "Nomé Izakaya                         1.708626   \n",
       "Chicken in the Kitchen               0.202523   \n",
       "Drunken Chicken                      1.381345   \n",
       "\n",
       "                                                            duplicate_categories  \\\n",
       "name                                                                               \n",
       "MeNami                         Asian Fusion, Korean, Udon, Restaurants, Night...   \n",
       "Han Ba Tang                    Asian Fusion, Korean, Restaurants, Nightlife, ...   \n",
       "Hashi Izakaya                     Korean, Restaurants, Nightlife, Bars, Japanese   \n",
       "Koryo Korean Restaurant & Bar  Asian Fusion, Korean, Restaurants, Nightlife, ...   \n",
       "Oh Bar                                      Nightlife, Korean, Bars, Restaurants   \n",
       "Dakgogi                                     Nightlife, Restaurants, Korean, Bars   \n",
       "Mymy Chicken                                Nightlife, Korean, Bars, Restaurants   \n",
       "Nomé Izakaya                              Nightlife, Bars, Japanese, Restaurants   \n",
       "Chicken in the Kitchen                      Nightlife, Korean, Bars, Restaurants   \n",
       "Drunken Chicken                             Nightlife, Korean, Bars, Restaurants   \n",
       "\n",
       "                               n_dup_cat  \n",
       "name                                      \n",
       "MeNami                                 7  \n",
       "Han Ba Tang                            5  \n",
       "Hashi Izakaya                          5  \n",
       "Koryo Korean Restaurant & Bar          5  \n",
       "Oh Bar                                 4  \n",
       "Dakgogi                                4  \n",
       "Mymy Chicken                           4  \n",
       "Nomé Izakaya                           4  \n",
       "Chicken in the Kitchen                 4  \n",
       "Drunken Chicken                        4  "
      ]
     },
     "execution_count": 21,
     "metadata": {},
     "output_type": "execute_result"
    }
   ],
   "source": [
    "within_distance_direct_competitions.sort_values(['n_dup_cat'], ascending=False).head(10)"
   ]
  },
  {
   "cell_type": "code",
   "execution_count": 22,
   "metadata": {},
   "outputs": [
    {
     "data": {
      "text/plain": [
       "'Japanese, Asian Fusion, Restaurants, Nightlife, Udon, Bars, Korean'"
      ]
     },
     "execution_count": 22,
     "metadata": {},
     "output_type": "execute_result"
    }
   ],
   "source": [
    "my_business['categories']"
   ]
  }
 ],
 "metadata": {
  "kernelspec": {
   "display_name": "Python 3",
   "language": "python",
   "name": "python3"
  },
  "language_info": {
   "codemirror_mode": {
    "name": "ipython",
    "version": 3
   },
   "file_extension": ".py",
   "mimetype": "text/x-python",
   "name": "python",
   "nbconvert_exporter": "python",
   "pygments_lexer": "ipython3",
   "version": "3.7.4"
  }
 },
 "nbformat": 4,
 "nbformat_minor": 2
}
